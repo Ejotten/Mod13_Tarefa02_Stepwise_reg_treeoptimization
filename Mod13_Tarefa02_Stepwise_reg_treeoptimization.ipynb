{
 "cells": [
  {
   "cell_type": "markdown",
   "metadata": {},
   "source": [
    "# EBAC - Regressão II - regressão múltipla\n",
    "\n",
    "## Tarefa I"
   ]
  },
  {
   "cell_type": "markdown",
   "metadata": {},
   "source": [
    "#### Previsão de renda II\n",
    "\n",
    "Vamos continuar trabalhando com a base 'previsao_de_renda.csv', que é a base do seu próximo projeto. Vamos usar os recursos que vimos até aqui nesta base.\n",
    "\n",
    "|variavel|descrição|\n",
    "|-|-|\n",
    "|data_ref                | Data de referência de coleta das variáveis |\n",
    "|index                   | Código de identificação do cliente|\n",
    "|sexo                    | Sexo do cliente|\n",
    "|posse_de_veiculo        | Indica se o cliente possui veículo|\n",
    "|posse_de_imovel         | Indica se o cliente possui imóvel|\n",
    "|qtd_filhos              | Quantidade de filhos do cliente|\n",
    "|tipo_renda              | Tipo de renda do cliente|\n",
    "|educacao                | Grau de instrução do cliente|\n",
    "|estado_civil            | Estado civil do cliente|\n",
    "|tipo_residencia         | Tipo de residência do cliente (própria, alugada etc)|\n",
    "|idade                   | Idade do cliente|\n",
    "|tempo_emprego           | Tempo no emprego atual|\n",
    "|qt_pessoas_residencia   | Quantidade de pessoas que moram na residência|\n",
    "|renda                   | Renda em reais|"
   ]
  },
  {
   "cell_type": "code",
   "execution_count": 1,
   "metadata": {},
   "outputs": [],
   "source": [
    "import pandas as pd\n",
    "import seaborn as sns\n",
    "import matplotlib.pyplot as plt\n",
    "import seaborn as sns\n",
    "import numpy as np\n",
    "\n",
    "from sklearn.tree import DecisionTreeRegressor\n",
    "from sklearn import tree\n",
    "from sklearn.model_selection import train_test_split\n",
    "from sklearn.metrics import mean_squared_error\n",
    "\n",
    "\n",
    "import patsy\n",
    "import statsmodels.api as sm\n",
    "import statsmodels.formula.api as smf\n",
    "%matplotlib inline"
   ]
  },
  {
   "cell_type": "code",
   "execution_count": 2,
   "metadata": {},
   "outputs": [],
   "source": [
    "df = pd.read_csv('previsao_de_renda.csv')"
   ]
  },
  {
   "cell_type": "code",
   "execution_count": 3,
   "metadata": {},
   "outputs": [
    {
     "name": "stdout",
     "output_type": "stream",
     "text": [
      "<class 'pandas.core.frame.DataFrame'>\n",
      "RangeIndex: 15000 entries, 0 to 14999\n",
      "Data columns (total 15 columns):\n",
      " #   Column                 Non-Null Count  Dtype  \n",
      "---  ------                 --------------  -----  \n",
      " 0   Unnamed: 0             15000 non-null  int64  \n",
      " 1   data_ref               15000 non-null  object \n",
      " 2   id_cliente             15000 non-null  int64  \n",
      " 3   sexo                   15000 non-null  object \n",
      " 4   posse_de_veiculo       15000 non-null  bool   \n",
      " 5   posse_de_imovel        15000 non-null  bool   \n",
      " 6   qtd_filhos             15000 non-null  int64  \n",
      " 7   tipo_renda             15000 non-null  object \n",
      " 8   educacao               15000 non-null  object \n",
      " 9   estado_civil           15000 non-null  object \n",
      " 10  tipo_residencia        15000 non-null  object \n",
      " 11  idade                  15000 non-null  int64  \n",
      " 12  tempo_emprego          12427 non-null  float64\n",
      " 13  qt_pessoas_residencia  15000 non-null  float64\n",
      " 14  renda                  15000 non-null  float64\n",
      "dtypes: bool(2), float64(3), int64(4), object(6)\n",
      "memory usage: 1.5+ MB\n"
     ]
    }
   ],
   "source": [
    "df.info()"
   ]
  },
  {
   "cell_type": "code",
   "execution_count": 4,
   "metadata": {},
   "outputs": [],
   "source": [
    "# parece que existem valores nulos que não fazem muito sentido, ja que é possivel ter números decimais no campo, vamos excluir os 0.\n",
    "df = df.dropna()\n",
    "#vamos remover algumas colunas. \n",
    "df = df.drop(['Unnamed: 0','data_ref','id_cliente'], axis=1)"
   ]
  },
  {
   "cell_type": "markdown",
   "metadata": {},
   "source": [
    "1. Separe a base em treinamento e teste (25% para teste, 75% para treinamento).\n",
    "2. Rode uma regularização *ridge* com alpha = [0, 0.001, 0.005, 0.01, 0.05, 0.1] e avalie o $R^2$ na base de testes. Qual o melhor modelo?\n",
    "3. Faça o mesmo que no passo 2, com uma regressão *LASSO*. Qual método chega a um melhor resultado?\n",
    "4. Rode um modelo *stepwise*. Avalie o $R^2$ na vase de testes. Qual o melhor resultado?\n",
    "5. Compare os parâmetros e avalie eventuais diferenças. Qual modelo você acha o melhor de todos?\n",
    "6. Partindo dos modelos que você ajustou, tente melhorar o $R^2$ na base de testes. Use a criatividade, veja se consegue inserir alguma transformação ou combinação de variáveis.\n",
    "7. Ajuste uma árvore de regressão e veja se consegue um $R^2$ melhor com ela."
   ]
  },
  {
   "cell_type": "code",
   "execution_count": 5,
   "metadata": {},
   "outputs": [],
   "source": [
    "df_train, df_test = train_test_split(df, test_size=0.25, random_state=100)"
   ]
  },
  {
   "cell_type": "markdown",
   "metadata": {},
   "source": [
    "### Exercicio 2"
   ]
  },
  {
   "cell_type": "markdown",
   "metadata": {},
   "source": [
    "Com base no exercicio anterior, vamos começar com o modelo mais eficiente encontrado. "
   ]
  },
  {
   "cell_type": "code",
   "execution_count": 6,
   "metadata": {},
   "outputs": [
    {
     "name": "stdout",
     "output_type": "stream",
     "text": [
      "                            OLS Regression Results                            \n",
      "==============================================================================\n",
      "Dep. Variable:                  renda   R-squared:                       0.304\n",
      "Model:                            OLS   Adj. R-squared:                  0.298\n",
      "Method:                 Least Squares   F-statistic:                     53.80\n",
      "Date:                Mon, 29 Apr 2024   Prob (F-statistic):          1.76e-220\n",
      "Time:                        08:18:44   Log-Likelihood:                -31733.\n",
      "No. Observations:                3107   AIC:                         6.352e+04\n",
      "Df Residuals:                    3082   BIC:                         6.367e+04\n",
      "Df Model:                          25                                         \n",
      "Covariance Type:            nonrobust                                         \n",
      "=====================================================================================================================\n",
      "                                                        coef    std err          t      P>|t|      [0.025      0.975]\n",
      "---------------------------------------------------------------------------------------------------------------------\n",
      "Intercept                                         -6152.2342   9416.854     -0.653      0.514   -2.46e+04    1.23e+04\n",
      "sexo[T.M]                                          5881.0853    269.774     21.800      0.000    5352.129    6410.041\n",
      "posse_de_veiculo[T.True]                           -157.9320    259.320     -0.609      0.543    -666.390     350.525\n",
      "C(posse_de_imovel, Treatment(1))[T.False]          -564.1797    260.452     -2.166      0.030   -1074.857     -53.503\n",
      "C(tipo_renda, Treatment(0))[T.Bolsista]           -1395.8199   2979.583     -0.468      0.639   -7237.990    4446.350\n",
      "C(tipo_renda, Treatment(0))[T.Empresário]          1096.5286    274.523      3.994      0.000     558.261    1634.796\n",
      "C(tipo_renda, Treatment(0))[T.Pensionista]        -5366.1233   6641.854     -0.808      0.419   -1.84e+04    7656.786\n",
      "C(tipo_renda, Treatment(0))[T.Servidor público]     768.8602    408.050      1.884      0.060     -31.218    1568.938\n",
      "C(educacao, Treatment(2))[T.Primário]               803.4307   1427.053      0.563      0.573   -1994.640    3601.502\n",
      "C(educacao, Treatment(2))[T.Pós graduação]         -321.6945   3325.796     -0.097      0.923   -6842.695    6199.306\n",
      "C(educacao, Treatment(2))[T.Superior completo]     1213.8937    254.635      4.767      0.000     714.621    1713.166\n",
      "C(educacao, Treatment(2))[T.Superior incompleto]   -831.9017    623.846     -1.334      0.182   -2055.099     391.295\n",
      "estado_civil[T.Separado]                           1492.1519   4732.197      0.315      0.753   -7786.428    1.08e+04\n",
      "estado_civil[T.Solteiro]                           1396.1960   4688.761      0.298      0.766   -7797.216    1.06e+04\n",
      "estado_civil[T.União]                              -751.9776    474.620     -1.584      0.113   -1682.582     178.627\n",
      "estado_civil[T.Viúvo]                              1239.4640   4760.711      0.260      0.795   -8095.024    1.06e+04\n",
      "C(tipo_residencia, Treatment(1))[T.Aluguel]         -27.2922    982.200     -0.028      0.978   -1953.125    1898.541\n",
      "C(tipo_residencia, Treatment(1))[T.Com os pais]    -315.6132    555.959     -0.568      0.570   -1405.700     774.474\n",
      "C(tipo_residencia, Treatment(1))[T.Comunitário]    -209.2722   1578.446     -0.133      0.895   -3304.185    2885.641\n",
      "C(tipo_residencia, Treatment(1))[T.Estúdio]        -513.9941   1364.883     -0.377      0.707   -3190.166    2162.178\n",
      "C(tipo_residencia, Treatment(1))[T.Governamental]  1111.1058    716.256      1.551      0.121    -293.281    2515.493\n",
      "qtd_filhos                                        -1019.5787   4709.499     -0.216      0.829   -1.03e+04    8214.496\n",
      "idade                                                49.7886     14.965      3.327      0.001      20.446      79.132\n",
      "tempo_emprego                                       516.3423     19.329     26.714      0.000     478.444     554.241\n",
      "qt_pessoas_residencia                              1663.0963   4701.795      0.354      0.724   -7555.873    1.09e+04\n",
      "==============================================================================\n",
      "Omnibus:                     3011.608   Durbin-Watson:                   2.016\n",
      "Prob(Omnibus):                  0.000   Jarque-Bera (JB):           234578.613\n",
      "Skew:                           4.482   Prob(JB):                         0.00\n",
      "Kurtosis:                      44.613   Cond. No.                     5.04e+03\n",
      "==============================================================================\n",
      "\n",
      "Notes:\n",
      "[1] Standard Errors assume that the covariance matrix of the errors is correctly specified.\n",
      "[2] The condition number is large, 5.04e+03. This might indicate that there are\n",
      "strong multicollinearity or other numerical problems.\n",
      "                            OLS Regression Results                            \n",
      "==============================================================================\n",
      "Dep. Variable:                  renda   R-squared:                       0.304\n",
      "Model:                            OLS   Adj. R-squared:                  0.298\n",
      "Method:                 Least Squares   F-statistic:                     53.80\n",
      "Date:                Mon, 29 Apr 2024   Prob (F-statistic):          1.76e-220\n",
      "Time:                        08:18:44   Log-Likelihood:                -31733.\n",
      "No. Observations:                3107   AIC:                         6.352e+04\n",
      "Df Residuals:                    3082   BIC:                         6.367e+04\n",
      "Df Model:                          25                                         \n",
      "Covariance Type:            nonrobust                                         \n",
      "=====================================================================================================================\n",
      "                                                        coef    std err          t      P>|t|      [0.025      0.975]\n",
      "---------------------------------------------------------------------------------------------------------------------\n",
      "Intercept                                         -6152.2342   9416.854     -0.653      0.514   -2.46e+04    1.23e+04\n",
      "sexo[T.M]                                          5881.0853    269.774     21.800      0.000    5352.129    6410.041\n",
      "posse_de_veiculo[T.True]                           -157.9320    259.320     -0.609      0.543    -666.390     350.525\n",
      "C(posse_de_imovel, Treatment(1))[T.False]          -564.1797    260.452     -2.166      0.030   -1074.857     -53.503\n",
      "C(tipo_renda, Treatment(0))[T.Bolsista]           -1395.8199   2979.583     -0.468      0.639   -7237.990    4446.350\n",
      "C(tipo_renda, Treatment(0))[T.Empresário]          1096.5286    274.523      3.994      0.000     558.261    1634.796\n",
      "C(tipo_renda, Treatment(0))[T.Pensionista]        -5366.1233   6641.854     -0.808      0.419   -1.84e+04    7656.786\n",
      "C(tipo_renda, Treatment(0))[T.Servidor público]     768.8602    408.050      1.884      0.060     -31.218    1568.938\n",
      "C(educacao, Treatment(2))[T.Primário]               803.4307   1427.053      0.563      0.573   -1994.640    3601.502\n",
      "C(educacao, Treatment(2))[T.Pós graduação]         -321.6945   3325.796     -0.097      0.923   -6842.695    6199.306\n",
      "C(educacao, Treatment(2))[T.Superior completo]     1213.8937    254.635      4.767      0.000     714.621    1713.166\n",
      "C(educacao, Treatment(2))[T.Superior incompleto]   -831.9017    623.846     -1.334      0.182   -2055.099     391.295\n",
      "estado_civil[T.Separado]                           1492.1519   4732.197      0.315      0.753   -7786.428    1.08e+04\n",
      "estado_civil[T.Solteiro]                           1396.1960   4688.761      0.298      0.766   -7797.216    1.06e+04\n",
      "estado_civil[T.União]                              -751.9776    474.620     -1.584      0.113   -1682.582     178.627\n",
      "estado_civil[T.Viúvo]                              1239.4640   4760.711      0.260      0.795   -8095.024    1.06e+04\n",
      "C(tipo_residencia, Treatment(1))[T.Aluguel]         -27.2922    982.200     -0.028      0.978   -1953.125    1898.541\n",
      "C(tipo_residencia, Treatment(1))[T.Com os pais]    -315.6132    555.959     -0.568      0.570   -1405.700     774.474\n",
      "C(tipo_residencia, Treatment(1))[T.Comunitário]    -209.2722   1578.446     -0.133      0.895   -3304.185    2885.641\n",
      "C(tipo_residencia, Treatment(1))[T.Estúdio]        -513.9941   1364.883     -0.377      0.707   -3190.166    2162.178\n",
      "C(tipo_residencia, Treatment(1))[T.Governamental]  1111.1058    716.256      1.551      0.121    -293.281    2515.493\n",
      "qtd_filhos                                        -1019.5787   4709.499     -0.216      0.829   -1.03e+04    8214.496\n",
      "idade                                                49.7886     14.965      3.327      0.001      20.446      79.132\n",
      "tempo_emprego                                       516.3423     19.329     26.714      0.000     478.444     554.241\n",
      "qt_pessoas_residencia                              1663.0963   4701.795      0.354      0.724   -7555.873    1.09e+04\n",
      "==============================================================================\n",
      "Omnibus:                     3011.608   Durbin-Watson:                   2.016\n",
      "Prob(Omnibus):                  0.000   Jarque-Bera (JB):           234578.613\n",
      "Skew:                           4.482   Prob(JB):                         0.00\n",
      "Kurtosis:                      44.613   Cond. No.                     5.04e+03\n",
      "==============================================================================\n",
      "\n",
      "Notes:\n",
      "[1] Standard Errors assume that the covariance matrix of the errors is correctly specified.\n",
      "[2] The condition number is large, 5.04e+03. This might indicate that there are\n",
      "strong multicollinearity or other numerical problems.\n"
     ]
    },
    {
     "name": "stdout",
     "output_type": "stream",
     "text": [
      "                            OLS Regression Results                            \n",
      "==============================================================================\n",
      "Dep. Variable:                  renda   R-squared:                       0.304\n",
      "Model:                            OLS   Adj. R-squared:                  0.298\n",
      "Method:                 Least Squares   F-statistic:                     53.80\n",
      "Date:                Mon, 29 Apr 2024   Prob (F-statistic):          1.76e-220\n",
      "Time:                        08:18:45   Log-Likelihood:                -31733.\n",
      "No. Observations:                3107   AIC:                         6.352e+04\n",
      "Df Residuals:                    3082   BIC:                         6.367e+04\n",
      "Df Model:                          25                                         \n",
      "Covariance Type:            nonrobust                                         \n",
      "=====================================================================================================================\n",
      "                                                        coef    std err          t      P>|t|      [0.025      0.975]\n",
      "---------------------------------------------------------------------------------------------------------------------\n",
      "Intercept                                         -6152.2342   9416.854     -0.653      0.514   -2.46e+04    1.23e+04\n",
      "sexo[T.M]                                          5881.0853    269.774     21.800      0.000    5352.129    6410.041\n",
      "posse_de_veiculo[T.True]                           -157.9320    259.320     -0.609      0.543    -666.390     350.525\n",
      "C(posse_de_imovel, Treatment(1))[T.False]          -564.1797    260.452     -2.166      0.030   -1074.857     -53.503\n",
      "C(tipo_renda, Treatment(0))[T.Bolsista]           -1395.8199   2979.583     -0.468      0.639   -7237.990    4446.350\n",
      "C(tipo_renda, Treatment(0))[T.Empresário]          1096.5286    274.523      3.994      0.000     558.261    1634.796\n",
      "C(tipo_renda, Treatment(0))[T.Pensionista]        -5366.1233   6641.854     -0.808      0.419   -1.84e+04    7656.786\n",
      "C(tipo_renda, Treatment(0))[T.Servidor público]     768.8602    408.050      1.884      0.060     -31.218    1568.938\n",
      "C(educacao, Treatment(2))[T.Primário]               803.4307   1427.053      0.563      0.573   -1994.640    3601.502\n",
      "C(educacao, Treatment(2))[T.Pós graduação]         -321.6945   3325.796     -0.097      0.923   -6842.695    6199.306\n",
      "C(educacao, Treatment(2))[T.Superior completo]     1213.8937    254.635      4.767      0.000     714.621    1713.166\n",
      "C(educacao, Treatment(2))[T.Superior incompleto]   -831.9017    623.846     -1.334      0.182   -2055.099     391.295\n",
      "estado_civil[T.Separado]                           1492.1519   4732.197      0.315      0.753   -7786.428    1.08e+04\n",
      "estado_civil[T.Solteiro]                           1396.1960   4688.761      0.298      0.766   -7797.216    1.06e+04\n",
      "estado_civil[T.União]                              -751.9776    474.620     -1.584      0.113   -1682.582     178.627\n",
      "estado_civil[T.Viúvo]                              1239.4640   4760.711      0.260      0.795   -8095.024    1.06e+04\n",
      "C(tipo_residencia, Treatment(1))[T.Aluguel]         -27.2922    982.200     -0.028      0.978   -1953.125    1898.541\n",
      "C(tipo_residencia, Treatment(1))[T.Com os pais]    -315.6132    555.959     -0.568      0.570   -1405.700     774.474\n",
      "C(tipo_residencia, Treatment(1))[T.Comunitário]    -209.2722   1578.446     -0.133      0.895   -3304.185    2885.641\n",
      "C(tipo_residencia, Treatment(1))[T.Estúdio]        -513.9941   1364.883     -0.377      0.707   -3190.166    2162.178\n",
      "C(tipo_residencia, Treatment(1))[T.Governamental]  1111.1058    716.256      1.551      0.121    -293.281    2515.493\n",
      "qtd_filhos                                        -1019.5787   4709.499     -0.216      0.829   -1.03e+04    8214.496\n",
      "idade                                                49.7886     14.965      3.327      0.001      20.446      79.132\n",
      "tempo_emprego                                       516.3423     19.329     26.714      0.000     478.444     554.241\n",
      "qt_pessoas_residencia                              1663.0963   4701.795      0.354      0.724   -7555.873    1.09e+04\n",
      "==============================================================================\n",
      "Omnibus:                     3011.608   Durbin-Watson:                   2.016\n",
      "Prob(Omnibus):                  0.000   Jarque-Bera (JB):           234578.613\n",
      "Skew:                           4.482   Prob(JB):                         0.00\n",
      "Kurtosis:                      44.613   Cond. No.                     5.04e+03\n",
      "==============================================================================\n",
      "\n",
      "Notes:\n",
      "[1] Standard Errors assume that the covariance matrix of the errors is correctly specified.\n",
      "[2] The condition number is large, 5.04e+03. This might indicate that there are\n",
      "strong multicollinearity or other numerical problems.\n",
      "                            OLS Regression Results                            \n",
      "==============================================================================\n",
      "Dep. Variable:                  renda   R-squared:                       0.304\n",
      "Model:                            OLS   Adj. R-squared:                  0.298\n",
      "Method:                 Least Squares   F-statistic:                     53.80\n",
      "Date:                Mon, 29 Apr 2024   Prob (F-statistic):          1.76e-220\n",
      "Time:                        08:18:45   Log-Likelihood:                -31733.\n",
      "No. Observations:                3107   AIC:                         6.352e+04\n",
      "Df Residuals:                    3082   BIC:                         6.367e+04\n",
      "Df Model:                          25                                         \n",
      "Covariance Type:            nonrobust                                         \n",
      "=====================================================================================================================\n",
      "                                                        coef    std err          t      P>|t|      [0.025      0.975]\n",
      "---------------------------------------------------------------------------------------------------------------------\n",
      "Intercept                                         -6152.2342   9416.854     -0.653      0.514   -2.46e+04    1.23e+04\n",
      "sexo[T.M]                                          5881.0853    269.774     21.800      0.000    5352.129    6410.041\n",
      "posse_de_veiculo[T.True]                           -157.9320    259.320     -0.609      0.543    -666.390     350.525\n",
      "C(posse_de_imovel, Treatment(1))[T.False]          -564.1797    260.452     -2.166      0.030   -1074.857     -53.503\n",
      "C(tipo_renda, Treatment(0))[T.Bolsista]           -1395.8199   2979.583     -0.468      0.639   -7237.990    4446.350\n",
      "C(tipo_renda, Treatment(0))[T.Empresário]          1096.5286    274.523      3.994      0.000     558.261    1634.796\n",
      "C(tipo_renda, Treatment(0))[T.Pensionista]        -5366.1233   6641.854     -0.808      0.419   -1.84e+04    7656.786\n",
      "C(tipo_renda, Treatment(0))[T.Servidor público]     768.8602    408.050      1.884      0.060     -31.218    1568.938\n",
      "C(educacao, Treatment(2))[T.Primário]               803.4307   1427.053      0.563      0.573   -1994.640    3601.502\n",
      "C(educacao, Treatment(2))[T.Pós graduação]         -321.6945   3325.796     -0.097      0.923   -6842.695    6199.306\n",
      "C(educacao, Treatment(2))[T.Superior completo]     1213.8937    254.635      4.767      0.000     714.621    1713.166\n",
      "C(educacao, Treatment(2))[T.Superior incompleto]   -831.9017    623.846     -1.334      0.182   -2055.099     391.295\n",
      "estado_civil[T.Separado]                           1492.1519   4732.197      0.315      0.753   -7786.428    1.08e+04\n",
      "estado_civil[T.Solteiro]                           1396.1960   4688.761      0.298      0.766   -7797.216    1.06e+04\n",
      "estado_civil[T.União]                              -751.9776    474.620     -1.584      0.113   -1682.582     178.627\n",
      "estado_civil[T.Viúvo]                              1239.4640   4760.711      0.260      0.795   -8095.024    1.06e+04\n",
      "C(tipo_residencia, Treatment(1))[T.Aluguel]         -27.2922    982.200     -0.028      0.978   -1953.125    1898.541\n",
      "C(tipo_residencia, Treatment(1))[T.Com os pais]    -315.6132    555.959     -0.568      0.570   -1405.700     774.474\n",
      "C(tipo_residencia, Treatment(1))[T.Comunitário]    -209.2722   1578.446     -0.133      0.895   -3304.185    2885.641\n",
      "C(tipo_residencia, Treatment(1))[T.Estúdio]        -513.9941   1364.883     -0.377      0.707   -3190.166    2162.178\n",
      "C(tipo_residencia, Treatment(1))[T.Governamental]  1111.1058    716.256      1.551      0.121    -293.281    2515.493\n",
      "qtd_filhos                                        -1019.5787   4709.499     -0.216      0.829   -1.03e+04    8214.496\n",
      "idade                                                49.7886     14.965      3.327      0.001      20.446      79.132\n",
      "tempo_emprego                                       516.3423     19.329     26.714      0.000     478.444     554.241\n",
      "qt_pessoas_residencia                              1663.0963   4701.795      0.354      0.724   -7555.873    1.09e+04\n",
      "==============================================================================\n",
      "Omnibus:                     3011.608   Durbin-Watson:                   2.016\n",
      "Prob(Omnibus):                  0.000   Jarque-Bera (JB):           234578.613\n",
      "Skew:                           4.482   Prob(JB):                         0.00\n",
      "Kurtosis:                      44.613   Cond. No.                     5.04e+03\n",
      "==============================================================================\n",
      "\n",
      "Notes:\n",
      "[1] Standard Errors assume that the covariance matrix of the errors is correctly specified.\n",
      "[2] The condition number is large, 5.04e+03. This might indicate that there are\n",
      "strong multicollinearity or other numerical problems.\n"
     ]
    },
    {
     "name": "stdout",
     "output_type": "stream",
     "text": [
      "                            OLS Regression Results                            \n",
      "==============================================================================\n",
      "Dep. Variable:                  renda   R-squared:                       0.304\n",
      "Model:                            OLS   Adj. R-squared:                  0.298\n",
      "Method:                 Least Squares   F-statistic:                     53.80\n",
      "Date:                Mon, 29 Apr 2024   Prob (F-statistic):          1.76e-220\n",
      "Time:                        08:18:45   Log-Likelihood:                -31733.\n",
      "No. Observations:                3107   AIC:                         6.352e+04\n",
      "Df Residuals:                    3082   BIC:                         6.367e+04\n",
      "Df Model:                          25                                         \n",
      "Covariance Type:            nonrobust                                         \n",
      "=====================================================================================================================\n",
      "                                                        coef    std err          t      P>|t|      [0.025      0.975]\n",
      "---------------------------------------------------------------------------------------------------------------------\n",
      "Intercept                                         -6152.2342   9416.854     -0.653      0.514   -2.46e+04    1.23e+04\n",
      "sexo[T.M]                                          5881.0853    269.774     21.800      0.000    5352.129    6410.041\n",
      "posse_de_veiculo[T.True]                           -157.9320    259.320     -0.609      0.543    -666.390     350.525\n",
      "C(posse_de_imovel, Treatment(1))[T.False]          -564.1797    260.452     -2.166      0.030   -1074.857     -53.503\n",
      "C(tipo_renda, Treatment(0))[T.Bolsista]           -1395.8199   2979.583     -0.468      0.639   -7237.990    4446.350\n",
      "C(tipo_renda, Treatment(0))[T.Empresário]          1096.5286    274.523      3.994      0.000     558.261    1634.796\n",
      "C(tipo_renda, Treatment(0))[T.Pensionista]        -5366.1233   6641.854     -0.808      0.419   -1.84e+04    7656.786\n",
      "C(tipo_renda, Treatment(0))[T.Servidor público]     768.8602    408.050      1.884      0.060     -31.218    1568.938\n",
      "C(educacao, Treatment(2))[T.Primário]               803.4307   1427.053      0.563      0.573   -1994.640    3601.502\n",
      "C(educacao, Treatment(2))[T.Pós graduação]         -321.6945   3325.796     -0.097      0.923   -6842.695    6199.306\n",
      "C(educacao, Treatment(2))[T.Superior completo]     1213.8937    254.635      4.767      0.000     714.621    1713.166\n",
      "C(educacao, Treatment(2))[T.Superior incompleto]   -831.9017    623.846     -1.334      0.182   -2055.099     391.295\n",
      "estado_civil[T.Separado]                           1492.1519   4732.197      0.315      0.753   -7786.428    1.08e+04\n",
      "estado_civil[T.Solteiro]                           1396.1960   4688.761      0.298      0.766   -7797.216    1.06e+04\n",
      "estado_civil[T.União]                              -751.9776    474.620     -1.584      0.113   -1682.582     178.627\n",
      "estado_civil[T.Viúvo]                              1239.4640   4760.711      0.260      0.795   -8095.024    1.06e+04\n",
      "C(tipo_residencia, Treatment(1))[T.Aluguel]         -27.2922    982.200     -0.028      0.978   -1953.125    1898.541\n",
      "C(tipo_residencia, Treatment(1))[T.Com os pais]    -315.6132    555.959     -0.568      0.570   -1405.700     774.474\n",
      "C(tipo_residencia, Treatment(1))[T.Comunitário]    -209.2722   1578.446     -0.133      0.895   -3304.185    2885.641\n",
      "C(tipo_residencia, Treatment(1))[T.Estúdio]        -513.9941   1364.883     -0.377      0.707   -3190.166    2162.178\n",
      "C(tipo_residencia, Treatment(1))[T.Governamental]  1111.1058    716.256      1.551      0.121    -293.281    2515.493\n",
      "qtd_filhos                                        -1019.5787   4709.499     -0.216      0.829   -1.03e+04    8214.496\n",
      "idade                                                49.7886     14.965      3.327      0.001      20.446      79.132\n",
      "tempo_emprego                                       516.3423     19.329     26.714      0.000     478.444     554.241\n",
      "qt_pessoas_residencia                              1663.0963   4701.795      0.354      0.724   -7555.873    1.09e+04\n",
      "==============================================================================\n",
      "Omnibus:                     3011.608   Durbin-Watson:                   2.016\n",
      "Prob(Omnibus):                  0.000   Jarque-Bera (JB):           234578.613\n",
      "Skew:                           4.482   Prob(JB):                         0.00\n",
      "Kurtosis:                      44.613   Cond. No.                     5.04e+03\n",
      "==============================================================================\n",
      "\n",
      "Notes:\n",
      "[1] Standard Errors assume that the covariance matrix of the errors is correctly specified.\n",
      "[2] The condition number is large, 5.04e+03. This might indicate that there are\n",
      "strong multicollinearity or other numerical problems.\n",
      "                            OLS Regression Results                            \n",
      "==============================================================================\n",
      "Dep. Variable:                  renda   R-squared:                       0.304\n",
      "Model:                            OLS   Adj. R-squared:                  0.298\n",
      "Method:                 Least Squares   F-statistic:                     53.80\n",
      "Date:                Mon, 29 Apr 2024   Prob (F-statistic):          1.76e-220\n",
      "Time:                        08:18:45   Log-Likelihood:                -31733.\n",
      "No. Observations:                3107   AIC:                         6.352e+04\n",
      "Df Residuals:                    3082   BIC:                         6.367e+04\n",
      "Df Model:                          25                                         \n",
      "Covariance Type:            nonrobust                                         \n",
      "=====================================================================================================================\n",
      "                                                        coef    std err          t      P>|t|      [0.025      0.975]\n",
      "---------------------------------------------------------------------------------------------------------------------\n",
      "Intercept                                         -6152.2342   9416.854     -0.653      0.514   -2.46e+04    1.23e+04\n",
      "sexo[T.M]                                          5881.0853    269.774     21.800      0.000    5352.129    6410.041\n",
      "posse_de_veiculo[T.True]                           -157.9320    259.320     -0.609      0.543    -666.390     350.525\n",
      "C(posse_de_imovel, Treatment(1))[T.False]          -564.1797    260.452     -2.166      0.030   -1074.857     -53.503\n",
      "C(tipo_renda, Treatment(0))[T.Bolsista]           -1395.8199   2979.583     -0.468      0.639   -7237.990    4446.350\n",
      "C(tipo_renda, Treatment(0))[T.Empresário]          1096.5286    274.523      3.994      0.000     558.261    1634.796\n",
      "C(tipo_renda, Treatment(0))[T.Pensionista]        -5366.1233   6641.854     -0.808      0.419   -1.84e+04    7656.786\n",
      "C(tipo_renda, Treatment(0))[T.Servidor público]     768.8602    408.050      1.884      0.060     -31.218    1568.938\n",
      "C(educacao, Treatment(2))[T.Primário]               803.4307   1427.053      0.563      0.573   -1994.640    3601.502\n",
      "C(educacao, Treatment(2))[T.Pós graduação]         -321.6945   3325.796     -0.097      0.923   -6842.695    6199.306\n",
      "C(educacao, Treatment(2))[T.Superior completo]     1213.8937    254.635      4.767      0.000     714.621    1713.166\n",
      "C(educacao, Treatment(2))[T.Superior incompleto]   -831.9017    623.846     -1.334      0.182   -2055.099     391.295\n",
      "estado_civil[T.Separado]                           1492.1519   4732.197      0.315      0.753   -7786.428    1.08e+04\n",
      "estado_civil[T.Solteiro]                           1396.1960   4688.761      0.298      0.766   -7797.216    1.06e+04\n",
      "estado_civil[T.União]                              -751.9776    474.620     -1.584      0.113   -1682.582     178.627\n",
      "estado_civil[T.Viúvo]                              1239.4640   4760.711      0.260      0.795   -8095.024    1.06e+04\n",
      "C(tipo_residencia, Treatment(1))[T.Aluguel]         -27.2922    982.200     -0.028      0.978   -1953.125    1898.541\n",
      "C(tipo_residencia, Treatment(1))[T.Com os pais]    -315.6132    555.959     -0.568      0.570   -1405.700     774.474\n",
      "C(tipo_residencia, Treatment(1))[T.Comunitário]    -209.2722   1578.446     -0.133      0.895   -3304.185    2885.641\n",
      "C(tipo_residencia, Treatment(1))[T.Estúdio]        -513.9941   1364.883     -0.377      0.707   -3190.166    2162.178\n",
      "C(tipo_residencia, Treatment(1))[T.Governamental]  1111.1058    716.256      1.551      0.121    -293.281    2515.493\n",
      "qtd_filhos                                        -1019.5787   4709.499     -0.216      0.829   -1.03e+04    8214.496\n",
      "idade                                                49.7886     14.965      3.327      0.001      20.446      79.132\n",
      "tempo_emprego                                       516.3423     19.329     26.714      0.000     478.444     554.241\n",
      "qt_pessoas_residencia                              1663.0963   4701.795      0.354      0.724   -7555.873    1.09e+04\n",
      "==============================================================================\n",
      "Omnibus:                     3011.608   Durbin-Watson:                   2.016\n",
      "Prob(Omnibus):                  0.000   Jarque-Bera (JB):           234578.613\n",
      "Skew:                           4.482   Prob(JB):                         0.00\n",
      "Kurtosis:                      44.613   Cond. No.                     5.04e+03\n",
      "==============================================================================\n",
      "\n",
      "Notes:\n",
      "[1] Standard Errors assume that the covariance matrix of the errors is correctly specified.\n",
      "[2] The condition number is large, 5.04e+03. This might indicate that there are\n",
      "strong multicollinearity or other numerical problems.\n"
     ]
    }
   ],
   "source": [
    "modelo = 'renda ~ sexo + posse_de_veiculo + C(posse_de_imovel, Treatment(1)) + qtd_filhos + C(tipo_renda, Treatment(0)) + C(educacao, Treatment(2)) + estado_civil + C(tipo_residencia, Treatment(1)) + idade+ tempo_emprego+ qt_pessoas_residencia'\n",
    "\n",
    "alpha = [0, 0.001, 0.005, 0.01, 0.05, 0.1]\n",
    "\n",
    "for i in alpha:\n",
    "    md = smf.ols(modelo, data = df_test)\n",
    "    reg = md.fit_regularized(method = 'elastic_net' \n",
    "                         , refit = True\n",
    "                         , L1_wt = 0.00001\n",
    "                         , alpha = i)\n",
    "    \n",
    "    reg_summary = reg.summary()\n",
    "    print(reg_summary)\n",
    "\n",
    "\n"
   ]
  },
  {
   "cell_type": "code",
   "execution_count": 7,
   "metadata": {},
   "outputs": [
    {
     "name": "stdout",
     "output_type": "stream",
     "text": [
      "R² = 0.30380902063807236 Adj. R² = 0.2983876762173435 Alpha = 0 \n",
      "R² = 0.30380902063807236 Adj. R² = 0.2983876762173435 Alpha = 0.001 \n",
      "R² = 0.30380902063807236 Adj. R² = 0.2983876762173435 Alpha = 0.005 \n",
      "R² = 0.30380902063807236 Adj. R² = 0.2983876762173435 Alpha = 0.01 \n",
      "R² = 0.30380902063807236 Adj. R² = 0.2983876762173435 Alpha = 0.05 \n",
      "R² = 0.30380902063807236 Adj. R² = 0.2983876762173435 Alpha = 0.1 \n"
     ]
    }
   ],
   "source": [
    "modelo = 'renda ~ sexo + posse_de_veiculo + C(posse_de_imovel, Treatment(1)) + qtd_filhos + C(tipo_renda, Treatment(0)) + C(educacao, Treatment(2)) + estado_civil + C(tipo_residencia, Treatment(1)) + idade+ tempo_emprego+ qt_pessoas_residencia'\n",
    "\n",
    "alpha = [0, 0.001, 0.005, 0.01, 0.05, 0.1]\n",
    "\n",
    "for i in alpha:\n",
    "    md = smf.ols(modelo, data = df_test)\n",
    "    reg = md.fit_regularized(method = 'elastic_net' \n",
    "                         , refit = True\n",
    "                         , L1_wt = 0.00001\n",
    "                         , alpha = i)\n",
    "    \n",
    "    print(f'R² = {reg.rsquared} Adj. R² = {reg.rsquared_adj} Alpha = {i} ')\n",
    "\n",
    "\n"
   ]
  },
  {
   "cell_type": "markdown",
   "metadata": {},
   "source": [
    "Como podemos observar, todos modelos ficaram iguais, variando pouco o R² , R² ajustado e o AIC"
   ]
  },
  {
   "cell_type": "markdown",
   "metadata": {},
   "source": [
    "### Exercicio 3"
   ]
  },
  {
   "cell_type": "code",
   "execution_count": 8,
   "metadata": {},
   "outputs": [
    {
     "name": "stdout",
     "output_type": "stream",
     "text": [
      "                            OLS Regression Results                            \n",
      "==============================================================================\n",
      "Dep. Variable:                  renda   R-squared:                       0.304\n",
      "Model:                            OLS   Adj. R-squared:                  0.298\n",
      "Method:                 Least Squares   F-statistic:                     53.80\n",
      "Date:                Mon, 29 Apr 2024   Prob (F-statistic):          1.76e-220\n",
      "Time:                        08:18:47   Log-Likelihood:                -31733.\n",
      "No. Observations:                3107   AIC:                         6.352e+04\n",
      "Df Residuals:                    3082   BIC:                         6.367e+04\n",
      "Df Model:                          25                                         \n",
      "Covariance Type:            nonrobust                                         \n",
      "=====================================================================================================================\n",
      "                                                        coef    std err          t      P>|t|      [0.025      0.975]\n",
      "---------------------------------------------------------------------------------------------------------------------\n",
      "Intercept                                         -6152.2342   9416.854     -0.653      0.514   -2.46e+04    1.23e+04\n",
      "sexo[T.M]                                          5881.0853    269.774     21.800      0.000    5352.129    6410.041\n",
      "posse_de_veiculo[T.True]                           -157.9320    259.320     -0.609      0.543    -666.390     350.525\n",
      "C(posse_de_imovel, Treatment(1))[T.False]          -564.1797    260.452     -2.166      0.030   -1074.857     -53.503\n",
      "C(tipo_renda, Treatment(0))[T.Bolsista]           -1395.8199   2979.583     -0.468      0.639   -7237.990    4446.350\n",
      "C(tipo_renda, Treatment(0))[T.Empresário]          1096.5286    274.523      3.994      0.000     558.261    1634.796\n",
      "C(tipo_renda, Treatment(0))[T.Pensionista]        -5366.1233   6641.854     -0.808      0.419   -1.84e+04    7656.786\n",
      "C(tipo_renda, Treatment(0))[T.Servidor público]     768.8602    408.050      1.884      0.060     -31.218    1568.938\n",
      "C(educacao, Treatment(2))[T.Primário]               803.4307   1427.053      0.563      0.573   -1994.640    3601.502\n",
      "C(educacao, Treatment(2))[T.Pós graduação]         -321.6945   3325.796     -0.097      0.923   -6842.695    6199.306\n",
      "C(educacao, Treatment(2))[T.Superior completo]     1213.8937    254.635      4.767      0.000     714.621    1713.166\n",
      "C(educacao, Treatment(2))[T.Superior incompleto]   -831.9017    623.846     -1.334      0.182   -2055.099     391.295\n",
      "estado_civil[T.Separado]                           1492.1519   4732.197      0.315      0.753   -7786.428    1.08e+04\n",
      "estado_civil[T.Solteiro]                           1396.1960   4688.761      0.298      0.766   -7797.216    1.06e+04\n",
      "estado_civil[T.União]                              -751.9776    474.620     -1.584      0.113   -1682.582     178.627\n",
      "estado_civil[T.Viúvo]                              1239.4640   4760.711      0.260      0.795   -8095.024    1.06e+04\n",
      "C(tipo_residencia, Treatment(1))[T.Aluguel]         -27.2922    982.200     -0.028      0.978   -1953.125    1898.541\n",
      "C(tipo_residencia, Treatment(1))[T.Com os pais]    -315.6132    555.959     -0.568      0.570   -1405.700     774.474\n",
      "C(tipo_residencia, Treatment(1))[T.Comunitário]    -209.2722   1578.446     -0.133      0.895   -3304.185    2885.641\n",
      "C(tipo_residencia, Treatment(1))[T.Estúdio]        -513.9941   1364.883     -0.377      0.707   -3190.166    2162.178\n",
      "C(tipo_residencia, Treatment(1))[T.Governamental]  1111.1058    716.256      1.551      0.121    -293.281    2515.493\n",
      "qtd_filhos                                        -1019.5787   4709.499     -0.216      0.829   -1.03e+04    8214.496\n",
      "idade                                                49.7886     14.965      3.327      0.001      20.446      79.132\n",
      "tempo_emprego                                       516.3423     19.329     26.714      0.000     478.444     554.241\n",
      "qt_pessoas_residencia                              1663.0963   4701.795      0.354      0.724   -7555.873    1.09e+04\n",
      "==============================================================================\n",
      "Omnibus:                     3011.608   Durbin-Watson:                   2.016\n",
      "Prob(Omnibus):                  0.000   Jarque-Bera (JB):           234578.613\n",
      "Skew:                           4.482   Prob(JB):                         0.00\n",
      "Kurtosis:                      44.613   Cond. No.                     5.04e+03\n",
      "==============================================================================\n",
      "\n",
      "Notes:\n",
      "[1] Standard Errors assume that the covariance matrix of the errors is correctly specified.\n",
      "[2] The condition number is large, 5.04e+03. This might indicate that there are\n",
      "strong multicollinearity or other numerical problems.\n",
      "                            OLS Regression Results                            \n",
      "==============================================================================\n",
      "Dep. Variable:                  renda   R-squared:                       0.304\n",
      "Model:                            OLS   Adj. R-squared:                  0.298\n",
      "Method:                 Least Squares   F-statistic:                     53.80\n",
      "Date:                Mon, 29 Apr 2024   Prob (F-statistic):          1.76e-220\n",
      "Time:                        08:18:47   Log-Likelihood:                -31733.\n",
      "No. Observations:                3107   AIC:                         6.352e+04\n",
      "Df Residuals:                    3082   BIC:                         6.367e+04\n",
      "Df Model:                          25                                         \n",
      "Covariance Type:            nonrobust                                         \n",
      "=====================================================================================================================\n",
      "                                                        coef    std err          t      P>|t|      [0.025      0.975]\n",
      "---------------------------------------------------------------------------------------------------------------------\n",
      "Intercept                                         -6152.2342   9416.854     -0.653      0.514   -2.46e+04    1.23e+04\n",
      "sexo[T.M]                                          5881.0853    269.774     21.800      0.000    5352.129    6410.041\n",
      "posse_de_veiculo[T.True]                           -157.9320    259.320     -0.609      0.543    -666.390     350.525\n",
      "C(posse_de_imovel, Treatment(1))[T.False]          -564.1797    260.452     -2.166      0.030   -1074.857     -53.503\n",
      "C(tipo_renda, Treatment(0))[T.Bolsista]           -1395.8199   2979.583     -0.468      0.639   -7237.990    4446.350\n",
      "C(tipo_renda, Treatment(0))[T.Empresário]          1096.5286    274.523      3.994      0.000     558.261    1634.796\n",
      "C(tipo_renda, Treatment(0))[T.Pensionista]        -5366.1233   6641.854     -0.808      0.419   -1.84e+04    7656.786\n",
      "C(tipo_renda, Treatment(0))[T.Servidor público]     768.8602    408.050      1.884      0.060     -31.218    1568.938\n",
      "C(educacao, Treatment(2))[T.Primário]               803.4307   1427.053      0.563      0.573   -1994.640    3601.502\n",
      "C(educacao, Treatment(2))[T.Pós graduação]         -321.6945   3325.796     -0.097      0.923   -6842.695    6199.306\n",
      "C(educacao, Treatment(2))[T.Superior completo]     1213.8937    254.635      4.767      0.000     714.621    1713.166\n",
      "C(educacao, Treatment(2))[T.Superior incompleto]   -831.9017    623.846     -1.334      0.182   -2055.099     391.295\n",
      "estado_civil[T.Separado]                           1492.1519   4732.197      0.315      0.753   -7786.428    1.08e+04\n",
      "estado_civil[T.Solteiro]                           1396.1960   4688.761      0.298      0.766   -7797.216    1.06e+04\n",
      "estado_civil[T.União]                              -751.9776    474.620     -1.584      0.113   -1682.582     178.627\n",
      "estado_civil[T.Viúvo]                              1239.4640   4760.711      0.260      0.795   -8095.024    1.06e+04\n",
      "C(tipo_residencia, Treatment(1))[T.Aluguel]         -27.2922    982.200     -0.028      0.978   -1953.125    1898.541\n",
      "C(tipo_residencia, Treatment(1))[T.Com os pais]    -315.6132    555.959     -0.568      0.570   -1405.700     774.474\n",
      "C(tipo_residencia, Treatment(1))[T.Comunitário]    -209.2722   1578.446     -0.133      0.895   -3304.185    2885.641\n",
      "C(tipo_residencia, Treatment(1))[T.Estúdio]        -513.9941   1364.883     -0.377      0.707   -3190.166    2162.178\n",
      "C(tipo_residencia, Treatment(1))[T.Governamental]  1111.1058    716.256      1.551      0.121    -293.281    2515.493\n",
      "qtd_filhos                                        -1019.5787   4709.499     -0.216      0.829   -1.03e+04    8214.496\n",
      "idade                                                49.7886     14.965      3.327      0.001      20.446      79.132\n",
      "tempo_emprego                                       516.3423     19.329     26.714      0.000     478.444     554.241\n",
      "qt_pessoas_residencia                              1663.0963   4701.795      0.354      0.724   -7555.873    1.09e+04\n",
      "==============================================================================\n",
      "Omnibus:                     3011.608   Durbin-Watson:                   2.016\n",
      "Prob(Omnibus):                  0.000   Jarque-Bera (JB):           234578.613\n",
      "Skew:                           4.482   Prob(JB):                         0.00\n",
      "Kurtosis:                      44.613   Cond. No.                     5.04e+03\n",
      "==============================================================================\n",
      "\n",
      "Notes:\n",
      "[1] Standard Errors assume that the covariance matrix of the errors is correctly specified.\n",
      "[2] The condition number is large, 5.04e+03. This might indicate that there are\n",
      "strong multicollinearity or other numerical problems.\n"
     ]
    },
    {
     "name": "stdout",
     "output_type": "stream",
     "text": [
      "                            OLS Regression Results                            \n",
      "==============================================================================\n",
      "Dep. Variable:                  renda   R-squared:                       0.304\n",
      "Model:                            OLS   Adj. R-squared:                  0.298\n",
      "Method:                 Least Squares   F-statistic:                     53.80\n",
      "Date:                Mon, 29 Apr 2024   Prob (F-statistic):          1.76e-220\n",
      "Time:                        08:18:47   Log-Likelihood:                -31733.\n",
      "No. Observations:                3107   AIC:                         6.352e+04\n",
      "Df Residuals:                    3082   BIC:                         6.367e+04\n",
      "Df Model:                          25                                         \n",
      "Covariance Type:            nonrobust                                         \n",
      "=====================================================================================================================\n",
      "                                                        coef    std err          t      P>|t|      [0.025      0.975]\n",
      "---------------------------------------------------------------------------------------------------------------------\n",
      "Intercept                                         -6152.2342   9416.854     -0.653      0.514   -2.46e+04    1.23e+04\n",
      "sexo[T.M]                                          5881.0853    269.774     21.800      0.000    5352.129    6410.041\n",
      "posse_de_veiculo[T.True]                           -157.9320    259.320     -0.609      0.543    -666.390     350.525\n",
      "C(posse_de_imovel, Treatment(1))[T.False]          -564.1797    260.452     -2.166      0.030   -1074.857     -53.503\n",
      "C(tipo_renda, Treatment(0))[T.Bolsista]           -1395.8199   2979.583     -0.468      0.639   -7237.990    4446.350\n",
      "C(tipo_renda, Treatment(0))[T.Empresário]          1096.5286    274.523      3.994      0.000     558.261    1634.796\n",
      "C(tipo_renda, Treatment(0))[T.Pensionista]        -5366.1233   6641.854     -0.808      0.419   -1.84e+04    7656.786\n",
      "C(tipo_renda, Treatment(0))[T.Servidor público]     768.8602    408.050      1.884      0.060     -31.218    1568.938\n",
      "C(educacao, Treatment(2))[T.Primário]               803.4307   1427.053      0.563      0.573   -1994.640    3601.502\n",
      "C(educacao, Treatment(2))[T.Pós graduação]         -321.6945   3325.796     -0.097      0.923   -6842.695    6199.306\n",
      "C(educacao, Treatment(2))[T.Superior completo]     1213.8937    254.635      4.767      0.000     714.621    1713.166\n",
      "C(educacao, Treatment(2))[T.Superior incompleto]   -831.9017    623.846     -1.334      0.182   -2055.099     391.295\n",
      "estado_civil[T.Separado]                           1492.1519   4732.197      0.315      0.753   -7786.428    1.08e+04\n",
      "estado_civil[T.Solteiro]                           1396.1960   4688.761      0.298      0.766   -7797.216    1.06e+04\n",
      "estado_civil[T.União]                              -751.9776    474.620     -1.584      0.113   -1682.582     178.627\n",
      "estado_civil[T.Viúvo]                              1239.4640   4760.711      0.260      0.795   -8095.024    1.06e+04\n",
      "C(tipo_residencia, Treatment(1))[T.Aluguel]         -27.2922    982.200     -0.028      0.978   -1953.125    1898.541\n",
      "C(tipo_residencia, Treatment(1))[T.Com os pais]    -315.6132    555.959     -0.568      0.570   -1405.700     774.474\n",
      "C(tipo_residencia, Treatment(1))[T.Comunitário]    -209.2722   1578.446     -0.133      0.895   -3304.185    2885.641\n",
      "C(tipo_residencia, Treatment(1))[T.Estúdio]        -513.9941   1364.883     -0.377      0.707   -3190.166    2162.178\n",
      "C(tipo_residencia, Treatment(1))[T.Governamental]  1111.1058    716.256      1.551      0.121    -293.281    2515.493\n",
      "qtd_filhos                                        -1019.5787   4709.499     -0.216      0.829   -1.03e+04    8214.496\n",
      "idade                                                49.7886     14.965      3.327      0.001      20.446      79.132\n",
      "tempo_emprego                                       516.3423     19.329     26.714      0.000     478.444     554.241\n",
      "qt_pessoas_residencia                              1663.0963   4701.795      0.354      0.724   -7555.873    1.09e+04\n",
      "==============================================================================\n",
      "Omnibus:                     3011.608   Durbin-Watson:                   2.016\n",
      "Prob(Omnibus):                  0.000   Jarque-Bera (JB):           234578.613\n",
      "Skew:                           4.482   Prob(JB):                         0.00\n",
      "Kurtosis:                      44.613   Cond. No.                     5.04e+03\n",
      "==============================================================================\n",
      "\n",
      "Notes:\n",
      "[1] Standard Errors assume that the covariance matrix of the errors is correctly specified.\n",
      "[2] The condition number is large, 5.04e+03. This might indicate that there are\n",
      "strong multicollinearity or other numerical problems.\n",
      "                            OLS Regression Results                            \n",
      "==============================================================================\n",
      "Dep. Variable:                  renda   R-squared:                       0.304\n",
      "Model:                            OLS   Adj. R-squared:                  0.298\n",
      "Method:                 Least Squares   F-statistic:                     53.80\n",
      "Date:                Mon, 29 Apr 2024   Prob (F-statistic):          1.76e-220\n",
      "Time:                        08:18:48   Log-Likelihood:                -31733.\n",
      "No. Observations:                3107   AIC:                         6.352e+04\n",
      "Df Residuals:                    3082   BIC:                         6.367e+04\n",
      "Df Model:                          25                                         \n",
      "Covariance Type:            nonrobust                                         \n",
      "=====================================================================================================================\n",
      "                                                        coef    std err          t      P>|t|      [0.025      0.975]\n",
      "---------------------------------------------------------------------------------------------------------------------\n",
      "Intercept                                         -6152.2342   9416.854     -0.653      0.514   -2.46e+04    1.23e+04\n",
      "sexo[T.M]                                          5881.0853    269.774     21.800      0.000    5352.129    6410.041\n",
      "posse_de_veiculo[T.True]                           -157.9320    259.320     -0.609      0.543    -666.390     350.525\n",
      "C(posse_de_imovel, Treatment(1))[T.False]          -564.1797    260.452     -2.166      0.030   -1074.857     -53.503\n",
      "C(tipo_renda, Treatment(0))[T.Bolsista]           -1395.8199   2979.583     -0.468      0.639   -7237.990    4446.350\n",
      "C(tipo_renda, Treatment(0))[T.Empresário]          1096.5286    274.523      3.994      0.000     558.261    1634.796\n",
      "C(tipo_renda, Treatment(0))[T.Pensionista]        -5366.1233   6641.854     -0.808      0.419   -1.84e+04    7656.786\n",
      "C(tipo_renda, Treatment(0))[T.Servidor público]     768.8602    408.050      1.884      0.060     -31.218    1568.938\n",
      "C(educacao, Treatment(2))[T.Primário]               803.4307   1427.053      0.563      0.573   -1994.640    3601.502\n",
      "C(educacao, Treatment(2))[T.Pós graduação]         -321.6945   3325.796     -0.097      0.923   -6842.695    6199.306\n",
      "C(educacao, Treatment(2))[T.Superior completo]     1213.8937    254.635      4.767      0.000     714.621    1713.166\n",
      "C(educacao, Treatment(2))[T.Superior incompleto]   -831.9017    623.846     -1.334      0.182   -2055.099     391.295\n",
      "estado_civil[T.Separado]                           1492.1519   4732.197      0.315      0.753   -7786.428    1.08e+04\n",
      "estado_civil[T.Solteiro]                           1396.1960   4688.761      0.298      0.766   -7797.216    1.06e+04\n",
      "estado_civil[T.União]                              -751.9776    474.620     -1.584      0.113   -1682.582     178.627\n",
      "estado_civil[T.Viúvo]                              1239.4640   4760.711      0.260      0.795   -8095.024    1.06e+04\n",
      "C(tipo_residencia, Treatment(1))[T.Aluguel]         -27.2922    982.200     -0.028      0.978   -1953.125    1898.541\n",
      "C(tipo_residencia, Treatment(1))[T.Com os pais]    -315.6132    555.959     -0.568      0.570   -1405.700     774.474\n",
      "C(tipo_residencia, Treatment(1))[T.Comunitário]    -209.2722   1578.446     -0.133      0.895   -3304.185    2885.641\n",
      "C(tipo_residencia, Treatment(1))[T.Estúdio]        -513.9941   1364.883     -0.377      0.707   -3190.166    2162.178\n",
      "C(tipo_residencia, Treatment(1))[T.Governamental]  1111.1058    716.256      1.551      0.121    -293.281    2515.493\n",
      "qtd_filhos                                        -1019.5787   4709.499     -0.216      0.829   -1.03e+04    8214.496\n",
      "idade                                                49.7886     14.965      3.327      0.001      20.446      79.132\n",
      "tempo_emprego                                       516.3423     19.329     26.714      0.000     478.444     554.241\n",
      "qt_pessoas_residencia                              1663.0963   4701.795      0.354      0.724   -7555.873    1.09e+04\n",
      "==============================================================================\n",
      "Omnibus:                     3011.608   Durbin-Watson:                   2.016\n",
      "Prob(Omnibus):                  0.000   Jarque-Bera (JB):           234578.613\n",
      "Skew:                           4.482   Prob(JB):                         0.00\n",
      "Kurtosis:                      44.613   Cond. No.                     5.04e+03\n",
      "==============================================================================\n",
      "\n",
      "Notes:\n",
      "[1] Standard Errors assume that the covariance matrix of the errors is correctly specified.\n",
      "[2] The condition number is large, 5.04e+03. This might indicate that there are\n",
      "strong multicollinearity or other numerical problems.\n"
     ]
    },
    {
     "name": "stdout",
     "output_type": "stream",
     "text": [
      "                            OLS Regression Results                            \n",
      "==============================================================================\n",
      "Dep. Variable:                  renda   R-squared:                       0.304\n",
      "Model:                            OLS   Adj. R-squared:                  0.298\n",
      "Method:                 Least Squares   F-statistic:                     53.80\n",
      "Date:                Mon, 29 Apr 2024   Prob (F-statistic):          1.76e-220\n",
      "Time:                        08:18:48   Log-Likelihood:                -31733.\n",
      "No. Observations:                3107   AIC:                         6.352e+04\n",
      "Df Residuals:                    3082   BIC:                         6.367e+04\n",
      "Df Model:                          25                                         \n",
      "Covariance Type:            nonrobust                                         \n",
      "=====================================================================================================================\n",
      "                                                        coef    std err          t      P>|t|      [0.025      0.975]\n",
      "---------------------------------------------------------------------------------------------------------------------\n",
      "Intercept                                         -6152.2342   9416.854     -0.653      0.514   -2.46e+04    1.23e+04\n",
      "sexo[T.M]                                          5881.0853    269.774     21.800      0.000    5352.129    6410.041\n",
      "posse_de_veiculo[T.True]                           -157.9320    259.320     -0.609      0.543    -666.390     350.525\n",
      "C(posse_de_imovel, Treatment(1))[T.False]          -564.1797    260.452     -2.166      0.030   -1074.857     -53.503\n",
      "C(tipo_renda, Treatment(0))[T.Bolsista]           -1395.8199   2979.583     -0.468      0.639   -7237.990    4446.350\n",
      "C(tipo_renda, Treatment(0))[T.Empresário]          1096.5286    274.523      3.994      0.000     558.261    1634.796\n",
      "C(tipo_renda, Treatment(0))[T.Pensionista]        -5366.1233   6641.854     -0.808      0.419   -1.84e+04    7656.786\n",
      "C(tipo_renda, Treatment(0))[T.Servidor público]     768.8602    408.050      1.884      0.060     -31.218    1568.938\n",
      "C(educacao, Treatment(2))[T.Primário]               803.4307   1427.053      0.563      0.573   -1994.640    3601.502\n",
      "C(educacao, Treatment(2))[T.Pós graduação]         -321.6945   3325.796     -0.097      0.923   -6842.695    6199.306\n",
      "C(educacao, Treatment(2))[T.Superior completo]     1213.8937    254.635      4.767      0.000     714.621    1713.166\n",
      "C(educacao, Treatment(2))[T.Superior incompleto]   -831.9017    623.846     -1.334      0.182   -2055.099     391.295\n",
      "estado_civil[T.Separado]                           1492.1519   4732.197      0.315      0.753   -7786.428    1.08e+04\n",
      "estado_civil[T.Solteiro]                           1396.1960   4688.761      0.298      0.766   -7797.216    1.06e+04\n",
      "estado_civil[T.União]                              -751.9776    474.620     -1.584      0.113   -1682.582     178.627\n",
      "estado_civil[T.Viúvo]                              1239.4640   4760.711      0.260      0.795   -8095.024    1.06e+04\n",
      "C(tipo_residencia, Treatment(1))[T.Aluguel]         -27.2922    982.200     -0.028      0.978   -1953.125    1898.541\n",
      "C(tipo_residencia, Treatment(1))[T.Com os pais]    -315.6132    555.959     -0.568      0.570   -1405.700     774.474\n",
      "C(tipo_residencia, Treatment(1))[T.Comunitário]    -209.2722   1578.446     -0.133      0.895   -3304.185    2885.641\n",
      "C(tipo_residencia, Treatment(1))[T.Estúdio]        -513.9941   1364.883     -0.377      0.707   -3190.166    2162.178\n",
      "C(tipo_residencia, Treatment(1))[T.Governamental]  1111.1058    716.256      1.551      0.121    -293.281    2515.493\n",
      "qtd_filhos                                        -1019.5787   4709.499     -0.216      0.829   -1.03e+04    8214.496\n",
      "idade                                                49.7886     14.965      3.327      0.001      20.446      79.132\n",
      "tempo_emprego                                       516.3423     19.329     26.714      0.000     478.444     554.241\n",
      "qt_pessoas_residencia                              1663.0963   4701.795      0.354      0.724   -7555.873    1.09e+04\n",
      "==============================================================================\n",
      "Omnibus:                     3011.608   Durbin-Watson:                   2.016\n",
      "Prob(Omnibus):                  0.000   Jarque-Bera (JB):           234578.613\n",
      "Skew:                           4.482   Prob(JB):                         0.00\n",
      "Kurtosis:                      44.613   Cond. No.                     5.04e+03\n",
      "==============================================================================\n",
      "\n",
      "Notes:\n",
      "[1] Standard Errors assume that the covariance matrix of the errors is correctly specified.\n",
      "[2] The condition number is large, 5.04e+03. This might indicate that there are\n",
      "strong multicollinearity or other numerical problems.\n",
      "                            OLS Regression Results                            \n",
      "==============================================================================\n",
      "Dep. Variable:                  renda   R-squared:                       0.304\n",
      "Model:                            OLS   Adj. R-squared:                  0.298\n",
      "Method:                 Least Squares   F-statistic:                     53.80\n",
      "Date:                Mon, 29 Apr 2024   Prob (F-statistic):          1.76e-220\n",
      "Time:                        08:18:48   Log-Likelihood:                -31733.\n",
      "No. Observations:                3107   AIC:                         6.352e+04\n",
      "Df Residuals:                    3082   BIC:                         6.367e+04\n",
      "Df Model:                          25                                         \n",
      "Covariance Type:            nonrobust                                         \n",
      "=====================================================================================================================\n",
      "                                                        coef    std err          t      P>|t|      [0.025      0.975]\n",
      "---------------------------------------------------------------------------------------------------------------------\n",
      "Intercept                                         -6152.2342   9416.854     -0.653      0.514   -2.46e+04    1.23e+04\n",
      "sexo[T.M]                                          5881.0853    269.774     21.800      0.000    5352.129    6410.041\n",
      "posse_de_veiculo[T.True]                           -157.9320    259.320     -0.609      0.543    -666.390     350.525\n",
      "C(posse_de_imovel, Treatment(1))[T.False]          -564.1797    260.452     -2.166      0.030   -1074.857     -53.503\n",
      "C(tipo_renda, Treatment(0))[T.Bolsista]           -1395.8199   2979.583     -0.468      0.639   -7237.990    4446.350\n",
      "C(tipo_renda, Treatment(0))[T.Empresário]          1096.5286    274.523      3.994      0.000     558.261    1634.796\n",
      "C(tipo_renda, Treatment(0))[T.Pensionista]        -5366.1233   6641.854     -0.808      0.419   -1.84e+04    7656.786\n",
      "C(tipo_renda, Treatment(0))[T.Servidor público]     768.8602    408.050      1.884      0.060     -31.218    1568.938\n",
      "C(educacao, Treatment(2))[T.Primário]               803.4307   1427.053      0.563      0.573   -1994.640    3601.502\n",
      "C(educacao, Treatment(2))[T.Pós graduação]         -321.6945   3325.796     -0.097      0.923   -6842.695    6199.306\n",
      "C(educacao, Treatment(2))[T.Superior completo]     1213.8937    254.635      4.767      0.000     714.621    1713.166\n",
      "C(educacao, Treatment(2))[T.Superior incompleto]   -831.9017    623.846     -1.334      0.182   -2055.099     391.295\n",
      "estado_civil[T.Separado]                           1492.1519   4732.197      0.315      0.753   -7786.428    1.08e+04\n",
      "estado_civil[T.Solteiro]                           1396.1960   4688.761      0.298      0.766   -7797.216    1.06e+04\n",
      "estado_civil[T.União]                              -751.9776    474.620     -1.584      0.113   -1682.582     178.627\n",
      "estado_civil[T.Viúvo]                              1239.4640   4760.711      0.260      0.795   -8095.024    1.06e+04\n",
      "C(tipo_residencia, Treatment(1))[T.Aluguel]         -27.2922    982.200     -0.028      0.978   -1953.125    1898.541\n",
      "C(tipo_residencia, Treatment(1))[T.Com os pais]    -315.6132    555.959     -0.568      0.570   -1405.700     774.474\n",
      "C(tipo_residencia, Treatment(1))[T.Comunitário]    -209.2722   1578.446     -0.133      0.895   -3304.185    2885.641\n",
      "C(tipo_residencia, Treatment(1))[T.Estúdio]        -513.9941   1364.883     -0.377      0.707   -3190.166    2162.178\n",
      "C(tipo_residencia, Treatment(1))[T.Governamental]  1111.1058    716.256      1.551      0.121    -293.281    2515.493\n",
      "qtd_filhos                                        -1019.5787   4709.499     -0.216      0.829   -1.03e+04    8214.496\n",
      "idade                                                49.7886     14.965      3.327      0.001      20.446      79.132\n",
      "tempo_emprego                                       516.3423     19.329     26.714      0.000     478.444     554.241\n",
      "qt_pessoas_residencia                              1663.0963   4701.795      0.354      0.724   -7555.873    1.09e+04\n",
      "==============================================================================\n",
      "Omnibus:                     3011.608   Durbin-Watson:                   2.016\n",
      "Prob(Omnibus):                  0.000   Jarque-Bera (JB):           234578.613\n",
      "Skew:                           4.482   Prob(JB):                         0.00\n",
      "Kurtosis:                      44.613   Cond. No.                     5.04e+03\n",
      "==============================================================================\n",
      "\n",
      "Notes:\n",
      "[1] Standard Errors assume that the covariance matrix of the errors is correctly specified.\n",
      "[2] The condition number is large, 5.04e+03. This might indicate that there are\n",
      "strong multicollinearity or other numerical problems.\n"
     ]
    }
   ],
   "source": [
    "modelo = 'renda ~ sexo + posse_de_veiculo + C(posse_de_imovel, Treatment(1)) + qtd_filhos + C(tipo_renda, Treatment(0)) + C(educacao, Treatment(2)) + estado_civil + C(tipo_residencia, Treatment(1)) + idade+ tempo_emprego+ qt_pessoas_residencia'\n",
    "\n",
    "alpha = [0, 0.001, 0.005, 0.01, 0.05, 0.1]\n",
    "\n",
    "for i in alpha:\n",
    "    md = smf.ols(modelo, data = df_test)\n",
    "    reg = md.fit_regularized(method = 'elastic_net' \n",
    "                         , refit = True\n",
    "                         , L1_wt = 1\n",
    "                         , alpha = i)\n",
    "    \n",
    "    reg_summary = reg.summary()\n",
    "    print(reg_summary)"
   ]
  },
  {
   "cell_type": "code",
   "execution_count": 9,
   "metadata": {},
   "outputs": [
    {
     "name": "stdout",
     "output_type": "stream",
     "text": [
      "R² = 0.30380902063807236 /// Adj. R² = 0.2983876762173435 Alpha = 0 \n",
      "R² = 0.30380902063807236 /// Adj. R² = 0.2983876762173435 Alpha = 0.001 \n",
      "R² = 0.30380902063807236 /// Adj. R² = 0.2983876762173435 Alpha = 0.005 \n",
      "R² = 0.30380902063807236 /// Adj. R² = 0.2983876762173435 Alpha = 0.01 \n",
      "R² = 0.30380902063807236 /// Adj. R² = 0.2983876762173435 Alpha = 0.05 \n",
      "R² = 0.30380902063807236 /// Adj. R² = 0.2983876762173435 Alpha = 0.1 \n"
     ]
    }
   ],
   "source": [
    "modelo = 'renda ~ sexo + posse_de_veiculo + C(posse_de_imovel, Treatment(1)) + qtd_filhos + C(tipo_renda, Treatment(0)) + C(educacao, Treatment(2)) + estado_civil + C(tipo_residencia, Treatment(1)) + idade+ tempo_emprego+ qt_pessoas_residencia'\n",
    "\n",
    "alpha = [0, 0.001, 0.005, 0.01, 0.05, 0.1]\n",
    "\n",
    "for i in alpha:\n",
    "    md = smf.ols(modelo, data = df_test)\n",
    "    reg = md.fit_regularized(method = 'elastic_net' \n",
    "                         , refit = True\n",
    "                         , L1_wt = 1\n",
    "                         , alpha = i)\n",
    "    \n",
    "    print(f'R² = {reg.rsquared} /// Adj. R² = {reg.rsquared_adj} Alpha = {i} ')"
   ]
  },
  {
   "cell_type": "markdown",
   "metadata": {},
   "source": [
    "O melhor resultado foi com o Alpha = 0 e Alpha = 0,001, mesmo que sendo melhoras marginais"
   ]
  },
  {
   "cell_type": "markdown",
   "metadata": {},
   "source": [
    "### Exercicio 4"
   ]
  },
  {
   "cell_type": "code",
   "execution_count": 10,
   "metadata": {},
   "outputs": [],
   "source": [
    "def stepwise_selection(X, y, \n",
    "                       initial_list=[], \n",
    "                       threshold_in=0.01, \n",
    "                       threshold_out = 0.05, \n",
    "                       verbose=True):\n",
    "    \"\"\" Perform a forward-backward feature selection \n",
    "    based on p-value from statsmodels.api.OLS\n",
    "    Arguments:\n",
    "        X - pandas.DataFrame with candidate features\n",
    "        y - list-like with the target\n",
    "        initial_list - list of features to start with (column names of X)\n",
    "        threshold_in - include a feature if its p-value < threshold_in\n",
    "        threshold_out - exclude a feature if its p-value > threshold_out\n",
    "        verbose - whether to print the sequence of inclusions and exclusions\n",
    "    Returns: list of selected features \n",
    "    Always set threshold_in < threshold_out to avoid infinite looping.\n",
    "    See https://en.wikipedia.org/wiki/Stepwise_regression for the details\n",
    "    \"\"\"\n",
    "    included = list(initial_list)\n",
    "    while True:\n",
    "        changed=False\n",
    "        # forward step\n",
    "        excluded = list(set(X.columns)-set(included))\n",
    "        new_pval = pd.Series(index=excluded)\n",
    "        for new_column in excluded:\n",
    "            model = sm.OLS(y, sm.add_constant(pd.DataFrame(X[included+[new_column]]))).fit()\n",
    "            new_pval[new_column] = model.pvalues[new_column]\n",
    "        best_pval = new_pval.min()\n",
    "        if best_pval < threshold_in:\n",
    "            best_feature = new_pval.idxmin()\n",
    "            included.append(best_feature)\n",
    "            changed=True\n",
    "            if verbose:\n",
    "                print('Add  {:30} with p-value {:.6}'.format(best_feature, best_pval))\n",
    "        # backward step\n",
    "        model = sm.OLS(y, sm.add_constant(pd.DataFrame(X[included]))).fit()\n",
    "        # use all coefs except intercept\n",
    "        pvalues = model.pvalues.iloc[1:]\n",
    "        worst_pval = pvalues.max() # null if pvalues is empty\n",
    "        if worst_pval > threshold_out:\n",
    "            changed=True\n",
    "            worst_feature = pvalues.idxmax()\n",
    "            included.remove(worst_feature)\n",
    "            if verbose:\n",
    "                print('Drop {:30} with p-value {:.6}'.format(worst_feature, worst_pval))\n",
    "        if not changed:\n",
    "            break\n",
    "    return included\n"
   ]
  },
  {
   "cell_type": "code",
   "execution_count": 11,
   "metadata": {},
   "outputs": [],
   "source": [
    "#transformar booleanos em Dummies e objects em Dummies\n",
    "#Poderíamos fazer assim: df_test.posse_de_veiculo = [int(x) for x in df_test.posse_de_veiculo]\n",
    "#                        df_test.posse_de_imovel = [int(x) for x in df_test.posse_de_imovel]\n",
    "X_step = df_test.drop('renda', axis = 1)\n",
    "X_step = pd.get_dummies(df_test, columns = ['sexo', 'posse_de_veiculo', 'posse_de_imovel', 'tipo_renda', 'educacao', 'estado_civil', 'tipo_residencia'], drop_first=True)\n",
    "\n",
    "y_step = df_test.renda"
   ]
  },
  {
   "cell_type": "code",
   "execution_count": 13,
   "metadata": {
    "scrolled": true
   },
   "outputs": [
    {
     "name": "stdout",
     "output_type": "stream",
     "text": [
      "<class 'pandas.core.frame.DataFrame'>\n",
      "Int64Index: 3107 entries, 3740 to 10639\n",
      "Data columns (total 25 columns):\n",
      " #   Column                         Non-Null Count  Dtype  \n",
      "---  ------                         --------------  -----  \n",
      " 0   qtd_filhos                     3107 non-null   int64  \n",
      " 1   idade                          3107 non-null   int64  \n",
      " 2   tempo_emprego                  3107 non-null   float64\n",
      " 3   qt_pessoas_residencia          3107 non-null   float64\n",
      " 4   renda                          3107 non-null   float64\n",
      " 5   sexo_M                         3107 non-null   uint8  \n",
      " 6   posse_de_veiculo_True          3107 non-null   uint8  \n",
      " 7   posse_de_imovel_True           3107 non-null   uint8  \n",
      " 8   tipo_renda_Bolsista            3107 non-null   uint8  \n",
      " 9   tipo_renda_Empresário          3107 non-null   uint8  \n",
      " 10  tipo_renda_Pensionista         3107 non-null   uint8  \n",
      " 11  tipo_renda_Servidor público    3107 non-null   uint8  \n",
      " 12  educacao_Pós graduação         3107 non-null   uint8  \n",
      " 13  educacao_Secundário            3107 non-null   uint8  \n",
      " 14  educacao_Superior completo     3107 non-null   uint8  \n",
      " 15  educacao_Superior incompleto   3107 non-null   uint8  \n",
      " 16  estado_civil_Separado          3107 non-null   uint8  \n",
      " 17  estado_civil_Solteiro          3107 non-null   uint8  \n",
      " 18  estado_civil_União             3107 non-null   uint8  \n",
      " 19  estado_civil_Viúvo             3107 non-null   uint8  \n",
      " 20  tipo_residencia_Casa           3107 non-null   uint8  \n",
      " 21  tipo_residencia_Com os pais    3107 non-null   uint8  \n",
      " 22  tipo_residencia_Comunitário    3107 non-null   uint8  \n",
      " 23  tipo_residencia_Estúdio        3107 non-null   uint8  \n",
      " 24  tipo_residencia_Governamental  3107 non-null   uint8  \n",
      "dtypes: float64(3), int64(2), uint8(20)\n",
      "memory usage: 206.3 KB\n"
     ]
    }
   ],
   "source": [
    "X_step.info()"
   ]
  },
  {
   "cell_type": "code",
   "execution_count": 14,
   "metadata": {},
   "outputs": [
    {
     "name": "stderr",
     "output_type": "stream",
     "text": [
      "C:\\Users\\eric_\\AppData\\Local\\Temp\\ipykernel_26372\\1577308074.py:24: FutureWarning: The default dtype for empty Series will be 'object' instead of 'float64' in a future version. Specify a dtype explicitly to silence this warning.\n",
      "  new_pval = pd.Series(index=excluded)\n",
      "C:\\Users\\eric_\\AppData\\Local\\Temp\\ipykernel_26372\\1577308074.py:24: FutureWarning: The default dtype for empty Series will be 'object' instead of 'float64' in a future version. Specify a dtype explicitly to silence this warning.\n",
      "  new_pval = pd.Series(index=excluded)\n",
      "C:\\Users\\eric_\\AppData\\Local\\Temp\\ipykernel_26372\\1577308074.py:24: FutureWarning: The default dtype for empty Series will be 'object' instead of 'float64' in a future version. Specify a dtype explicitly to silence this warning.\n",
      "  new_pval = pd.Series(index=excluded)\n",
      "C:\\Users\\eric_\\AppData\\Local\\Temp\\ipykernel_26372\\1577308074.py:24: FutureWarning: The default dtype for empty Series will be 'object' instead of 'float64' in a future version. Specify a dtype explicitly to silence this warning.\n",
      "  new_pval = pd.Series(index=excluded)\n",
      "C:\\Users\\eric_\\AppData\\Local\\Temp\\ipykernel_26372\\1577308074.py:24: FutureWarning: The default dtype for empty Series will be 'object' instead of 'float64' in a future version. Specify a dtype explicitly to silence this warning.\n",
      "  new_pval = pd.Series(index=excluded)\n"
     ]
    },
    {
     "name": "stdout",
     "output_type": "stream",
     "text": [
      "Add  renda                          with p-value 0.0\n",
      "Add  tempo_emprego                  with p-value 1.2837e-104\n",
      "Add  idade                          with p-value 8.83185e-53\n",
      "Drop tempo_emprego                  with p-value 1.0\n",
      "Add  posse_de_veiculo_True          with p-value 1.59187e-42\n",
      "Add  educacao_Superior completo     with p-value 2.62164e-44\n",
      "Add  qtd_filhos                     with p-value 2.25638e-10\n",
      "Drop educacao_Superior completo     with p-value 0.641021\n",
      "Add  tipo_renda_Empresário          with p-value 4.60282e-35\n",
      "Add  estado_civil_Solteiro          with p-value 9.8653e-20\n"
     ]
    },
    {
     "name": "stderr",
     "output_type": "stream",
     "text": [
      "C:\\Users\\eric_\\AppData\\Local\\Temp\\ipykernel_26372\\1577308074.py:24: FutureWarning: The default dtype for empty Series will be 'object' instead of 'float64' in a future version. Specify a dtype explicitly to silence this warning.\n",
      "  new_pval = pd.Series(index=excluded)\n",
      "C:\\Users\\eric_\\AppData\\Local\\Temp\\ipykernel_26372\\1577308074.py:24: FutureWarning: The default dtype for empty Series will be 'object' instead of 'float64' in a future version. Specify a dtype explicitly to silence this warning.\n",
      "  new_pval = pd.Series(index=excluded)\n",
      "C:\\Users\\eric_\\AppData\\Local\\Temp\\ipykernel_26372\\1577308074.py:24: FutureWarning: The default dtype for empty Series will be 'object' instead of 'float64' in a future version. Specify a dtype explicitly to silence this warning.\n",
      "  new_pval = pd.Series(index=excluded)\n",
      "C:\\Users\\eric_\\AppData\\Local\\Temp\\ipykernel_26372\\1577308074.py:24: FutureWarning: The default dtype for empty Series will be 'object' instead of 'float64' in a future version. Specify a dtype explicitly to silence this warning.\n",
      "  new_pval = pd.Series(index=excluded)\n"
     ]
    },
    {
     "name": "stdout",
     "output_type": "stream",
     "text": [
      "Add  tipo_residencia_Estúdio        with p-value 2.22187e-16\n",
      "Add  posse_de_imovel_True           with p-value 2.11542e-13\n",
      "Drop tipo_residencia_Estúdio        with p-value 0.42975\n",
      "Add  tipo_renda_Servidor público    with p-value 5.03622e-07\n",
      "Add  sexo_M                         with p-value 4.39594e-10\n"
     ]
    },
    {
     "name": "stderr",
     "output_type": "stream",
     "text": [
      "C:\\Users\\eric_\\AppData\\Local\\Temp\\ipykernel_26372\\1577308074.py:24: FutureWarning: The default dtype for empty Series will be 'object' instead of 'float64' in a future version. Specify a dtype explicitly to silence this warning.\n",
      "  new_pval = pd.Series(index=excluded)\n",
      "C:\\Users\\eric_\\AppData\\Local\\Temp\\ipykernel_26372\\1577308074.py:24: FutureWarning: The default dtype for empty Series will be 'object' instead of 'float64' in a future version. Specify a dtype explicitly to silence this warning.\n",
      "  new_pval = pd.Series(index=excluded)\n",
      "C:\\Users\\eric_\\AppData\\Local\\Temp\\ipykernel_26372\\1577308074.py:24: FutureWarning: The default dtype for empty Series will be 'object' instead of 'float64' in a future version. Specify a dtype explicitly to silence this warning.\n",
      "  new_pval = pd.Series(index=excluded)\n",
      "C:\\Users\\eric_\\AppData\\Local\\Temp\\ipykernel_26372\\1577308074.py:24: FutureWarning: The default dtype for empty Series will be 'object' instead of 'float64' in a future version. Specify a dtype explicitly to silence this warning.\n",
      "  new_pval = pd.Series(index=excluded)\n"
     ]
    },
    {
     "name": "stdout",
     "output_type": "stream",
     "text": [
      "Add  tempo_emprego                  with p-value 4.02325e-07\n",
      "Drop sexo_M                         with p-value 0.917888\n",
      "Add  educacao_Secundário            with p-value 5.53865e-15\n",
      "Drop posse_de_imovel_True           with p-value 0.074403\n",
      "Add  posse_de_imovel_True           with p-value 3.84156e-05\n",
      "Drop estado_civil_Solteiro          with p-value 1.0\n",
      "Add  tipo_residencia_Casa           with p-value 4.3695e-17\n",
      "Drop tipo_renda_Servidor público    with p-value 0.319187\n"
     ]
    },
    {
     "name": "stderr",
     "output_type": "stream",
     "text": [
      "C:\\Users\\eric_\\AppData\\Local\\Temp\\ipykernel_26372\\1577308074.py:24: FutureWarning: The default dtype for empty Series will be 'object' instead of 'float64' in a future version. Specify a dtype explicitly to silence this warning.\n",
      "  new_pval = pd.Series(index=excluded)\n",
      "C:\\Users\\eric_\\AppData\\Local\\Temp\\ipykernel_26372\\1577308074.py:24: FutureWarning: The default dtype for empty Series will be 'object' instead of 'float64' in a future version. Specify a dtype explicitly to silence this warning.\n",
      "  new_pval = pd.Series(index=excluded)\n",
      "C:\\Users\\eric_\\AppData\\Local\\Temp\\ipykernel_26372\\1577308074.py:24: FutureWarning: The default dtype for empty Series will be 'object' instead of 'float64' in a future version. Specify a dtype explicitly to silence this warning.\n",
      "  new_pval = pd.Series(index=excluded)\n",
      "C:\\Users\\eric_\\AppData\\Local\\Temp\\ipykernel_26372\\1577308074.py:24: FutureWarning: The default dtype for empty Series will be 'object' instead of 'float64' in a future version. Specify a dtype explicitly to silence this warning.\n",
      "  new_pval = pd.Series(index=excluded)\n"
     ]
    },
    {
     "name": "stdout",
     "output_type": "stream",
     "text": [
      "Add  qt_pessoas_residencia          with p-value 1.22865e-10\n",
      "Drop tipo_residencia_Casa           with p-value 0.964819\n",
      "Add  estado_civil_Separado          with p-value 2.10211e-11\n",
      "Drop idade                          with p-value 0.487975\n",
      "Add  tipo_residencia_Casa           with p-value 6.57361e-16\n",
      "Drop educacao_Secundário            with p-value 0.434444\n"
     ]
    },
    {
     "name": "stderr",
     "output_type": "stream",
     "text": [
      "C:\\Users\\eric_\\AppData\\Local\\Temp\\ipykernel_26372\\1577308074.py:24: FutureWarning: The default dtype for empty Series will be 'object' instead of 'float64' in a future version. Specify a dtype explicitly to silence this warning.\n",
      "  new_pval = pd.Series(index=excluded)\n",
      "C:\\Users\\eric_\\AppData\\Local\\Temp\\ipykernel_26372\\1577308074.py:24: FutureWarning: The default dtype for empty Series will be 'object' instead of 'float64' in a future version. Specify a dtype explicitly to silence this warning.\n",
      "  new_pval = pd.Series(index=excluded)\n",
      "C:\\Users\\eric_\\AppData\\Local\\Temp\\ipykernel_26372\\1577308074.py:24: FutureWarning: The default dtype for empty Series will be 'object' instead of 'float64' in a future version. Specify a dtype explicitly to silence this warning.\n",
      "  new_pval = pd.Series(index=excluded)\n"
     ]
    },
    {
     "name": "stdout",
     "output_type": "stream",
     "text": [
      "Add  educacao_Superior completo     with p-value 2.63018e-29\n",
      "Drop tipo_residencia_Casa           with p-value 0.137052\n",
      "Add  educacao_Secundário            with p-value 0.00218622\n",
      "Drop posse_de_veiculo_True          with p-value 1.0\n",
      "Add  posse_de_veiculo_True          with p-value 1.41844e-12\n",
      "Drop educacao_Secundário            with p-value 0.50413\n",
      "Add  tipo_residencia_Estúdio        with p-value 3.51717e-05\n"
     ]
    },
    {
     "name": "stderr",
     "output_type": "stream",
     "text": [
      "C:\\Users\\eric_\\AppData\\Local\\Temp\\ipykernel_26372\\1577308074.py:24: FutureWarning: The default dtype for empty Series will be 'object' instead of 'float64' in a future version. Specify a dtype explicitly to silence this warning.\n",
      "  new_pval = pd.Series(index=excluded)\n",
      "C:\\Users\\eric_\\AppData\\Local\\Temp\\ipykernel_26372\\1577308074.py:24: FutureWarning: The default dtype for empty Series will be 'object' instead of 'float64' in a future version. Specify a dtype explicitly to silence this warning.\n",
      "  new_pval = pd.Series(index=excluded)\n",
      "C:\\Users\\eric_\\AppData\\Local\\Temp\\ipykernel_26372\\1577308074.py:24: FutureWarning: The default dtype for empty Series will be 'object' instead of 'float64' in a future version. Specify a dtype explicitly to silence this warning.\n",
      "  new_pval = pd.Series(index=excluded)\n",
      "C:\\Users\\eric_\\AppData\\Local\\Temp\\ipykernel_26372\\1577308074.py:24: FutureWarning: The default dtype for empty Series will be 'object' instead of 'float64' in a future version. Specify a dtype explicitly to silence this warning.\n",
      "  new_pval = pd.Series(index=excluded)\n"
     ]
    },
    {
     "name": "stdout",
     "output_type": "stream",
     "text": [
      "Add  idade                          with p-value 3.31688e-08\n",
      "Drop estado_civil_Separado          with p-value 1.0\n",
      "Add  estado_civil_Solteiro          with p-value 5.24644e-11\n",
      "Drop qt_pessoas_residencia          with p-value 0.929846\n",
      "Add  qt_pessoas_residencia          with p-value 4.23098e-14\n",
      "Drop tipo_residencia_Estúdio        with p-value 0.512388\n",
      "Add  estado_civil_União             with p-value 0.0058741\n",
      "Drop educacao_Superior completo     with p-value 0.741257\n"
     ]
    },
    {
     "name": "stderr",
     "output_type": "stream",
     "text": [
      "C:\\Users\\eric_\\AppData\\Local\\Temp\\ipykernel_26372\\1577308074.py:24: FutureWarning: The default dtype for empty Series will be 'object' instead of 'float64' in a future version. Specify a dtype explicitly to silence this warning.\n",
      "  new_pval = pd.Series(index=excluded)\n",
      "C:\\Users\\eric_\\AppData\\Local\\Temp\\ipykernel_26372\\1577308074.py:24: FutureWarning: The default dtype for empty Series will be 'object' instead of 'float64' in a future version. Specify a dtype explicitly to silence this warning.\n",
      "  new_pval = pd.Series(index=excluded)\n",
      "C:\\Users\\eric_\\AppData\\Local\\Temp\\ipykernel_26372\\1577308074.py:24: FutureWarning: The default dtype for empty Series will be 'object' instead of 'float64' in a future version. Specify a dtype explicitly to silence this warning.\n",
      "  new_pval = pd.Series(index=excluded)\n",
      "C:\\Users\\eric_\\AppData\\Local\\Temp\\ipykernel_26372\\1577308074.py:24: FutureWarning: The default dtype for empty Series will be 'object' instead of 'float64' in a future version. Specify a dtype explicitly to silence this warning.\n",
      "  new_pval = pd.Series(index=excluded)\n"
     ]
    },
    {
     "name": "stdout",
     "output_type": "stream",
     "text": [
      "Add  tipo_renda_Servidor público    with p-value 2.20401e-10\n",
      "Drop estado_civil_União             with p-value 0.652752\n",
      "Add  sexo_M                         with p-value 0.000242815\n",
      "Drop tipo_renda_Empresário          with p-value 0.518833\n",
      "Add  tipo_residencia_Com os pais    with p-value 1.09843e-06\n",
      "Add  educacao_Superior completo     with p-value 2.74985e-06\n",
      "Drop posse_de_veiculo_True          with p-value 0.737942\n"
     ]
    },
    {
     "name": "stderr",
     "output_type": "stream",
     "text": [
      "C:\\Users\\eric_\\AppData\\Local\\Temp\\ipykernel_26372\\1577308074.py:24: FutureWarning: The default dtype for empty Series will be 'object' instead of 'float64' in a future version. Specify a dtype explicitly to silence this warning.\n",
      "  new_pval = pd.Series(index=excluded)\n",
      "C:\\Users\\eric_\\AppData\\Local\\Temp\\ipykernel_26372\\1577308074.py:24: FutureWarning: The default dtype for empty Series will be 'object' instead of 'float64' in a future version. Specify a dtype explicitly to silence this warning.\n",
      "  new_pval = pd.Series(index=excluded)\n",
      "C:\\Users\\eric_\\AppData\\Local\\Temp\\ipykernel_26372\\1577308074.py:24: FutureWarning: The default dtype for empty Series will be 'object' instead of 'float64' in a future version. Specify a dtype explicitly to silence this warning.\n",
      "  new_pval = pd.Series(index=excluded)\n",
      "C:\\Users\\eric_\\AppData\\Local\\Temp\\ipykernel_26372\\1577308074.py:24: FutureWarning: The default dtype for empty Series will be 'object' instead of 'float64' in a future version. Specify a dtype explicitly to silence this warning.\n",
      "  new_pval = pd.Series(index=excluded)\n"
     ]
    },
    {
     "name": "stdout",
     "output_type": "stream",
     "text": [
      "Add  tipo_residencia_Governamental  with p-value 3.10666e-29\n",
      "Drop sexo_M                         with p-value 0.620891\n",
      "Add  tipo_residencia_Estúdio        with p-value 4.33368e-16\n",
      "Drop tempo_emprego                  with p-value 1.0\n",
      "Add  tempo_emprego                  with p-value 4.92614e-05\n",
      "Drop estado_civil_Solteiro          with p-value 0.934498\n",
      "Add  estado_civil_União             with p-value 0.00145113\n",
      "Drop posse_de_imovel_True           with p-value 0.751596\n"
     ]
    },
    {
     "name": "stderr",
     "output_type": "stream",
     "text": [
      "C:\\Users\\eric_\\AppData\\Local\\Temp\\ipykernel_26372\\1577308074.py:24: FutureWarning: The default dtype for empty Series will be 'object' instead of 'float64' in a future version. Specify a dtype explicitly to silence this warning.\n",
      "  new_pval = pd.Series(index=excluded)\n",
      "C:\\Users\\eric_\\AppData\\Local\\Temp\\ipykernel_26372\\1577308074.py:24: FutureWarning: The default dtype for empty Series will be 'object' instead of 'float64' in a future version. Specify a dtype explicitly to silence this warning.\n",
      "  new_pval = pd.Series(index=excluded)\n",
      "C:\\Users\\eric_\\AppData\\Local\\Temp\\ipykernel_26372\\1577308074.py:24: FutureWarning: The default dtype for empty Series will be 'object' instead of 'float64' in a future version. Specify a dtype explicitly to silence this warning.\n",
      "  new_pval = pd.Series(index=excluded)\n",
      "C:\\Users\\eric_\\AppData\\Local\\Temp\\ipykernel_26372\\1577308074.py:24: FutureWarning: The default dtype for empty Series will be 'object' instead of 'float64' in a future version. Specify a dtype explicitly to silence this warning.\n",
      "  new_pval = pd.Series(index=excluded)\n"
     ]
    },
    {
     "name": "stdout",
     "output_type": "stream",
     "text": [
      "Add  posse_de_imovel_True           with p-value 6.09316e-09\n",
      "Drop tipo_residencia_Com os pais    with p-value 0.810342\n",
      "Add  tipo_renda_Empresário          with p-value 1.37084e-10\n",
      "Drop tipo_residencia_Governamental  with p-value 0.781801\n",
      "Add  estado_civil_Separado          with p-value 1.0921e-17\n",
      "Drop tipo_residencia_Estúdio        with p-value 0.55883\n",
      "Add  educacao_Secundário            with p-value 0.00196589\n",
      "Drop posse_de_imovel_True           with p-value 1.0\n"
     ]
    },
    {
     "name": "stderr",
     "output_type": "stream",
     "text": [
      "C:\\Users\\eric_\\AppData\\Local\\Temp\\ipykernel_26372\\1577308074.py:24: FutureWarning: The default dtype for empty Series will be 'object' instead of 'float64' in a future version. Specify a dtype explicitly to silence this warning.\n",
      "  new_pval = pd.Series(index=excluded)\n",
      "C:\\Users\\eric_\\AppData\\Local\\Temp\\ipykernel_26372\\1577308074.py:24: FutureWarning: The default dtype for empty Series will be 'object' instead of 'float64' in a future version. Specify a dtype explicitly to silence this warning.\n",
      "  new_pval = pd.Series(index=excluded)\n",
      "C:\\Users\\eric_\\AppData\\Local\\Temp\\ipykernel_26372\\1577308074.py:24: FutureWarning: The default dtype for empty Series will be 'object' instead of 'float64' in a future version. Specify a dtype explicitly to silence this warning.\n",
      "  new_pval = pd.Series(index=excluded)\n",
      "C:\\Users\\eric_\\AppData\\Local\\Temp\\ipykernel_26372\\1577308074.py:24: FutureWarning: The default dtype for empty Series will be 'object' instead of 'float64' in a future version. Specify a dtype explicitly to silence this warning.\n",
      "  new_pval = pd.Series(index=excluded)\n"
     ]
    },
    {
     "name": "stdout",
     "output_type": "stream",
     "text": [
      "Add  tipo_residencia_Casa           with p-value 5.85463e-09\n",
      "Drop estado_civil_União             with p-value 0.321571\n",
      "Add  tipo_residencia_Governamental  with p-value 3.34477e-05\n",
      "Drop qtd_filhos                     with p-value 0.11506\n",
      "Add  tipo_residencia_Estúdio        with p-value 0.00655413\n",
      "Drop qt_pessoas_residencia          with p-value 0.7386\n",
      "Add  qt_pessoas_residencia          with p-value 5.98443e-20\n",
      "Drop tipo_renda_Empresário          with p-value 0.515778\n"
     ]
    },
    {
     "name": "stderr",
     "output_type": "stream",
     "text": [
      "C:\\Users\\eric_\\AppData\\Local\\Temp\\ipykernel_26372\\1577308074.py:24: FutureWarning: The default dtype for empty Series will be 'object' instead of 'float64' in a future version. Specify a dtype explicitly to silence this warning.\n",
      "  new_pval = pd.Series(index=excluded)\n",
      "C:\\Users\\eric_\\AppData\\Local\\Temp\\ipykernel_26372\\1577308074.py:24: FutureWarning: The default dtype for empty Series will be 'object' instead of 'float64' in a future version. Specify a dtype explicitly to silence this warning.\n",
      "  new_pval = pd.Series(index=excluded)\n",
      "C:\\Users\\eric_\\AppData\\Local\\Temp\\ipykernel_26372\\1577308074.py:24: FutureWarning: The default dtype for empty Series will be 'object' instead of 'float64' in a future version. Specify a dtype explicitly to silence this warning.\n",
      "  new_pval = pd.Series(index=excluded)\n",
      "C:\\Users\\eric_\\AppData\\Local\\Temp\\ipykernel_26372\\1577308074.py:24: FutureWarning: The default dtype for empty Series will be 'object' instead of 'float64' in a future version. Specify a dtype explicitly to silence this warning.\n",
      "  new_pval = pd.Series(index=excluded)\n"
     ]
    },
    {
     "name": "stdout",
     "output_type": "stream",
     "text": [
      "Add  sexo_M                         with p-value 2.20736e-36\n",
      "Drop tipo_residencia_Casa           with p-value 0.527689\n",
      "Add  estado_civil_Solteiro          with p-value 4.02389e-34\n",
      "Drop estado_civil_Separado          with p-value 0.635069\n",
      "Add  educacao_Superior incompleto   with p-value 5.78117e-05\n",
      "Drop educacao_Secundário            with p-value 0.793805\n",
      "Drop tipo_residencia_Estúdio        with p-value 0.873362\n"
     ]
    },
    {
     "name": "stderr",
     "output_type": "stream",
     "text": [
      "C:\\Users\\eric_\\AppData\\Local\\Temp\\ipykernel_26372\\1577308074.py:24: FutureWarning: The default dtype for empty Series will be 'object' instead of 'float64' in a future version. Specify a dtype explicitly to silence this warning.\n",
      "  new_pval = pd.Series(index=excluded)\n",
      "C:\\Users\\eric_\\AppData\\Local\\Temp\\ipykernel_26372\\1577308074.py:24: FutureWarning: The default dtype for empty Series will be 'object' instead of 'float64' in a future version. Specify a dtype explicitly to silence this warning.\n",
      "  new_pval = pd.Series(index=excluded)\n",
      "C:\\Users\\eric_\\AppData\\Local\\Temp\\ipykernel_26372\\1577308074.py:24: FutureWarning: The default dtype for empty Series will be 'object' instead of 'float64' in a future version. Specify a dtype explicitly to silence this warning.\n",
      "  new_pval = pd.Series(index=excluded)\n",
      "C:\\Users\\eric_\\AppData\\Local\\Temp\\ipykernel_26372\\1577308074.py:24: FutureWarning: The default dtype for empty Series will be 'object' instead of 'float64' in a future version. Specify a dtype explicitly to silence this warning.\n",
      "  new_pval = pd.Series(index=excluded)\n"
     ]
    },
    {
     "name": "stdout",
     "output_type": "stream",
     "text": [
      "Add  estado_civil_Separado          with p-value 8.79406e-11\n",
      "Drop tipo_residencia_Governamental  with p-value 1.0\n",
      "Add  tipo_residencia_Com os pais    with p-value 9.02858e-09\n",
      "Add  tipo_renda_Empresário          with p-value 1.57993e-08\n",
      "Drop estado_civil_Solteiro          with p-value 0.67702\n",
      "Add  estado_civil_Viúvo             with p-value 0.00149786\n",
      "Drop qt_pessoas_residencia          with p-value 0.932743\n"
     ]
    },
    {
     "name": "stderr",
     "output_type": "stream",
     "text": [
      "C:\\Users\\eric_\\AppData\\Local\\Temp\\ipykernel_26372\\1577308074.py:24: FutureWarning: The default dtype for empty Series will be 'object' instead of 'float64' in a future version. Specify a dtype explicitly to silence this warning.\n",
      "  new_pval = pd.Series(index=excluded)\n",
      "C:\\Users\\eric_\\AppData\\Local\\Temp\\ipykernel_26372\\1577308074.py:24: FutureWarning: The default dtype for empty Series will be 'object' instead of 'float64' in a future version. Specify a dtype explicitly to silence this warning.\n",
      "  new_pval = pd.Series(index=excluded)\n",
      "C:\\Users\\eric_\\AppData\\Local\\Temp\\ipykernel_26372\\1577308074.py:24: FutureWarning: The default dtype for empty Series will be 'object' instead of 'float64' in a future version. Specify a dtype explicitly to silence this warning.\n",
      "  new_pval = pd.Series(index=excluded)\n",
      "C:\\Users\\eric_\\AppData\\Local\\Temp\\ipykernel_26372\\1577308074.py:24: FutureWarning: The default dtype for empty Series will be 'object' instead of 'float64' in a future version. Specify a dtype explicitly to silence this warning.\n",
      "  new_pval = pd.Series(index=excluded)\n"
     ]
    },
    {
     "name": "stdout",
     "output_type": "stream",
     "text": [
      "Add  posse_de_imovel_True           with p-value 2.74176e-16\n",
      "Drop estado_civil_Viúvo             with p-value 0.0760659\n",
      "Add  estado_civil_Solteiro          with p-value 3.08795e-18\n",
      "Drop educacao_Superior incompleto   with p-value 0.728816\n",
      "Add  posse_de_veiculo_True          with p-value 1.00657e-13\n",
      "Drop idade                          with p-value 1.0\n",
      "Add  qtd_filhos                     with p-value 6.28263e-14\n",
      "Drop tipo_residencia_Com os pais    with p-value 0.796432\n"
     ]
    },
    {
     "name": "stderr",
     "output_type": "stream",
     "text": [
      "C:\\Users\\eric_\\AppData\\Local\\Temp\\ipykernel_26372\\1577308074.py:24: FutureWarning: The default dtype for empty Series will be 'object' instead of 'float64' in a future version. Specify a dtype explicitly to silence this warning.\n",
      "  new_pval = pd.Series(index=excluded)\n",
      "C:\\Users\\eric_\\AppData\\Local\\Temp\\ipykernel_26372\\1577308074.py:24: FutureWarning: The default dtype for empty Series will be 'object' instead of 'float64' in a future version. Specify a dtype explicitly to silence this warning.\n",
      "  new_pval = pd.Series(index=excluded)\n",
      "C:\\Users\\eric_\\AppData\\Local\\Temp\\ipykernel_26372\\1577308074.py:24: FutureWarning: The default dtype for empty Series will be 'object' instead of 'float64' in a future version. Specify a dtype explicitly to silence this warning.\n",
      "  new_pval = pd.Series(index=excluded)\n",
      "C:\\Users\\eric_\\AppData\\Local\\Temp\\ipykernel_26372\\1577308074.py:24: FutureWarning: The default dtype for empty Series will be 'object' instead of 'float64' in a future version. Specify a dtype explicitly to silence this warning.\n",
      "  new_pval = pd.Series(index=excluded)\n"
     ]
    },
    {
     "name": "stdout",
     "output_type": "stream",
     "text": [
      "Add  idade                          with p-value 0.000182947\n",
      "resulting features:\n",
      "['renda', 'tipo_renda_Servidor público', 'educacao_Superior completo', 'tempo_emprego', 'sexo_M', 'estado_civil_Separado', 'tipo_renda_Empresário', 'posse_de_imovel_True', 'estado_civil_Solteiro', 'posse_de_veiculo_True', 'qtd_filhos', 'idade']\n"
     ]
    },
    {
     "name": "stderr",
     "output_type": "stream",
     "text": [
      "C:\\Users\\eric_\\AppData\\Local\\Temp\\ipykernel_26372\\1577308074.py:24: FutureWarning: The default dtype for empty Series will be 'object' instead of 'float64' in a future version. Specify a dtype explicitly to silence this warning.\n",
      "  new_pval = pd.Series(index=excluded)\n"
     ]
    }
   ],
   "source": [
    "result = stepwise_selection(X_step, y_step)\n",
    "print('resulting features:')\n",
    "print(result)"
   ]
  },
  {
   "cell_type": "markdown",
   "metadata": {},
   "source": [
    "### A melhor regressão seria com: ['renda', 'tipo_renda_Servidor público', 'educacao_Superior completo', 'tempo_emprego', 'sexo_M', 'estado_civil_Separado', 'tipo_renda_Empresário', 'posse_de_imovel_True', 'estado_civil_Solteiro', 'posse_de_veiculo_True', 'qtd_filhos', 'idade']"
   ]
  },
  {
   "cell_type": "code",
   "execution_count": 36,
   "metadata": {},
   "outputs": [
    {
     "data": {
      "text/html": [
       "<table class=\"simpletable\">\n",
       "<caption>OLS Regression Results</caption>\n",
       "<tr>\n",
       "  <th>Dep. Variable:</th>          <td>renda</td>      <th>  R-squared:         </th> <td>   0.302</td> \n",
       "</tr>\n",
       "<tr>\n",
       "  <th>Model:</th>                   <td>OLS</td>       <th>  Adj. R-squared:    </th> <td>   0.299</td> \n",
       "</tr>\n",
       "<tr>\n",
       "  <th>Method:</th>             <td>Least Squares</td>  <th>  F-statistic:       </th> <td>   121.6</td> \n",
       "</tr>\n",
       "<tr>\n",
       "  <th>Date:</th>             <td>Mon, 29 Apr 2024</td> <th>  Prob (F-statistic):</th> <td>7.93e-232</td>\n",
       "</tr>\n",
       "<tr>\n",
       "  <th>Time:</th>                 <td>08:40:32</td>     <th>  Log-Likelihood:    </th> <td> -31737.</td> \n",
       "</tr>\n",
       "<tr>\n",
       "  <th>No. Observations:</th>      <td>  3107</td>      <th>  AIC:               </th> <td>6.350e+04</td>\n",
       "</tr>\n",
       "<tr>\n",
       "  <th>Df Residuals:</th>          <td>  3095</td>      <th>  BIC:               </th> <td>6.357e+04</td>\n",
       "</tr>\n",
       "<tr>\n",
       "  <th>Df Model:</th>              <td>    11</td>      <th>                     </th>     <td> </td>    \n",
       "</tr>\n",
       "<tr>\n",
       "  <th>Covariance Type:</th>      <td>nonrobust</td>    <th>                     </th>     <td> </td>    \n",
       "</tr>\n",
       "</table>\n",
       "<table class=\"simpletable\">\n",
       "<tr>\n",
       "               <td></td>                  <th>coef</th>     <th>std err</th>      <th>t</th>      <th>P>|t|</th>  <th>[0.025</th>    <th>0.975]</th>  \n",
       "</tr>\n",
       "<tr>\n",
       "  <th>const</th>                       <td>-3744.0674</td> <td>  660.748</td> <td>   -5.666</td> <td> 0.000</td> <td>-5039.617</td> <td>-2448.518</td>\n",
       "</tr>\n",
       "<tr>\n",
       "  <th>tipo_renda_Servidor público</th> <td>  753.4287</td> <td>  406.004</td> <td>    1.856</td> <td> 0.064</td> <td>  -42.635</td> <td> 1549.493</td>\n",
       "</tr>\n",
       "<tr>\n",
       "  <th>educacao_Superior completo</th>  <td> 1241.4409</td> <td>  248.138</td> <td>    5.003</td> <td> 0.000</td> <td>  754.910</td> <td> 1727.972</td>\n",
       "</tr>\n",
       "<tr>\n",
       "  <th>tempo_emprego</th>               <td>  516.5966</td> <td>   19.235</td> <td>   26.857</td> <td> 0.000</td> <td>  478.882</td> <td>  554.311</td>\n",
       "</tr>\n",
       "<tr>\n",
       "  <th>sexo_M</th>                      <td> 5912.8166</td> <td>  267.247</td> <td>   22.125</td> <td> 0.000</td> <td> 5388.816</td> <td> 6436.817</td>\n",
       "</tr>\n",
       "<tr>\n",
       "  <th>estado_civil_Separado</th>       <td>  -69.1403</td> <td>  537.054</td> <td>   -0.129</td> <td> 0.898</td> <td>-1122.158</td> <td>  983.877</td>\n",
       "</tr>\n",
       "<tr>\n",
       "  <th>tipo_renda_Empresário</th>       <td> 1068.5885</td> <td>  273.026</td> <td>    3.914</td> <td> 0.000</td> <td>  533.258</td> <td> 1603.919</td>\n",
       "</tr>\n",
       "<tr>\n",
       "  <th>posse_de_imovel_True</th>        <td>  563.6051</td> <td>  254.870</td> <td>    2.211</td> <td> 0.027</td> <td>   63.873</td> <td> 1063.337</td>\n",
       "</tr>\n",
       "<tr>\n",
       "  <th>estado_civil_Solteiro</th>       <td> -195.0047</td> <td>  371.218</td> <td>   -0.525</td> <td> 0.599</td> <td> -922.863</td> <td>  532.854</td>\n",
       "</tr>\n",
       "<tr>\n",
       "  <th>posse_de_veiculo_True</th>       <td> -116.6578</td> <td>  258.197</td> <td>   -0.452</td> <td> 0.651</td> <td> -622.912</td> <td>  389.597</td>\n",
       "</tr>\n",
       "<tr>\n",
       "  <th>qtd_filhos</th>                  <td>  663.3895</td> <td>  163.953</td> <td>    4.046</td> <td> 0.000</td> <td>  341.921</td> <td>  984.858</td>\n",
       "</tr>\n",
       "<tr>\n",
       "  <th>idade</th>                       <td>   55.0206</td> <td>   14.404</td> <td>    3.820</td> <td> 0.000</td> <td>   26.778</td> <td>   83.263</td>\n",
       "</tr>\n",
       "</table>\n",
       "<table class=\"simpletable\">\n",
       "<tr>\n",
       "  <th>Omnibus:</th>       <td>3015.995</td> <th>  Durbin-Watson:     </th>  <td>   2.018</td> \n",
       "</tr>\n",
       "<tr>\n",
       "  <th>Prob(Omnibus):</th>  <td> 0.000</td>  <th>  Jarque-Bera (JB):  </th> <td>234527.545</td>\n",
       "</tr>\n",
       "<tr>\n",
       "  <th>Skew:</th>           <td> 4.494</td>  <th>  Prob(JB):          </th>  <td>    0.00</td> \n",
       "</tr>\n",
       "<tr>\n",
       "  <th>Kurtosis:</th>       <td>44.603</td>  <th>  Cond. No.          </th>  <td>    243.</td> \n",
       "</tr>\n",
       "</table><br/><br/>Notes:<br/>[1] Standard Errors assume that the covariance matrix of the errors is correctly specified."
      ],
      "text/plain": [
       "<class 'statsmodels.iolib.summary.Summary'>\n",
       "\"\"\"\n",
       "                            OLS Regression Results                            \n",
       "==============================================================================\n",
       "Dep. Variable:                  renda   R-squared:                       0.302\n",
       "Model:                            OLS   Adj. R-squared:                  0.299\n",
       "Method:                 Least Squares   F-statistic:                     121.6\n",
       "Date:                Mon, 29 Apr 2024   Prob (F-statistic):          7.93e-232\n",
       "Time:                        08:40:32   Log-Likelihood:                -31737.\n",
       "No. Observations:                3107   AIC:                         6.350e+04\n",
       "Df Residuals:                    3095   BIC:                         6.357e+04\n",
       "Df Model:                          11                                         \n",
       "Covariance Type:            nonrobust                                         \n",
       "===============================================================================================\n",
       "                                  coef    std err          t      P>|t|      [0.025      0.975]\n",
       "-----------------------------------------------------------------------------------------------\n",
       "const                       -3744.0674    660.748     -5.666      0.000   -5039.617   -2448.518\n",
       "tipo_renda_Servidor público   753.4287    406.004      1.856      0.064     -42.635    1549.493\n",
       "educacao_Superior completo   1241.4409    248.138      5.003      0.000     754.910    1727.972\n",
       "tempo_emprego                 516.5966     19.235     26.857      0.000     478.882     554.311\n",
       "sexo_M                       5912.8166    267.247     22.125      0.000    5388.816    6436.817\n",
       "estado_civil_Separado         -69.1403    537.054     -0.129      0.898   -1122.158     983.877\n",
       "tipo_renda_Empresário        1068.5885    273.026      3.914      0.000     533.258    1603.919\n",
       "posse_de_imovel_True          563.6051    254.870      2.211      0.027      63.873    1063.337\n",
       "estado_civil_Solteiro        -195.0047    371.218     -0.525      0.599    -922.863     532.854\n",
       "posse_de_veiculo_True        -116.6578    258.197     -0.452      0.651    -622.912     389.597\n",
       "qtd_filhos                    663.3895    163.953      4.046      0.000     341.921     984.858\n",
       "idade                          55.0206     14.404      3.820      0.000      26.778      83.263\n",
       "==============================================================================\n",
       "Omnibus:                     3015.995   Durbin-Watson:                   2.018\n",
       "Prob(Omnibus):                  0.000   Jarque-Bera (JB):           234527.545\n",
       "Skew:                           4.494   Prob(JB):                         0.00\n",
       "Kurtosis:                      44.603   Cond. No.                         243.\n",
       "==============================================================================\n",
       "\n",
       "Notes:\n",
       "[1] Standard Errors assume that the covariance matrix of the errors is correctly specified.\n",
       "\"\"\""
      ]
     },
     "execution_count": 36,
     "metadata": {},
     "output_type": "execute_result"
    }
   ],
   "source": [
    "reg_stepwise = sm.OLS(y_step, sm.add_constant(pd.DataFrame(X_step[['tipo_renda_Servidor público', 'educacao_Superior completo', 'tempo_emprego', 'sexo_M', 'estado_civil_Separado', 'tipo_renda_Empresário', 'posse_de_imovel_True', 'estado_civil_Solteiro', 'posse_de_veiculo_True', 'qtd_filhos', 'idade']]))).fit()\n",
    "reg_stepwise.summary()"
   ]
  },
  {
   "cell_type": "markdown",
   "metadata": {},
   "source": [
    "## Exercício 5"
   ]
  },
  {
   "cell_type": "markdown",
   "metadata": {},
   "source": [
    "#### Todos os modelos de regressão são muito similares em relação aos resultados tanto analisando R²-ajustado quanto o AIC, porém usando o stepwise podemos garantir que analisamos o maior número de combinação de variáveis possível, usaria ele para começar e depois tentaria fazer uma análise elástica com as variáveis definidas pelo modelo."
   ]
  },
  {
   "cell_type": "markdown",
   "metadata": {},
   "source": [
    "### Exercicio 6"
   ]
  },
  {
   "cell_type": "code",
   "execution_count": 15,
   "metadata": {},
   "outputs": [
    {
     "name": "stdout",
     "output_type": "stream",
     "text": [
      "R² = 0.3537907682461804 Adj. R² = 0.3527488314003987 Alpha = 0 \n",
      "R² = 0.3537907682461804 Adj. R² = 0.3527488314003987 Alpha = 0.001 \n",
      "R² = 0.3537907682461804 Adj. R² = 0.3527488314003987 Alpha = 0.005 \n",
      "R² = 0.3537907682461804 Adj. R² = 0.3527488314003987 Alpha = 0.01 \n",
      "R² = 0.3537907682461804 Adj. R² = 0.3527488314003987 Alpha = 0.05 \n",
      "R² = 0.3537907682461804 Adj. R² = 0.3527488314003987 Alpha = 0.1 \n"
     ]
    }
   ],
   "source": [
    "modelo = 'np.log(renda) ~ sexo + posse_de_veiculo + posse_de_imovel + idade + tempo_emprego + 1'\n",
    "\n",
    "alpha = [0, 0.001, 0.005, 0.01, 0.05, 0.1]\n",
    "\n",
    "for i in alpha:\n",
    "    md = smf.ols(modelo, data = df_test)\n",
    "    reg = md.fit_regularized(method = 'elastic_net' \n",
    "                         , refit = True\n",
    "                         , L1_wt = 0.00001\n",
    "                         , alpha = i)\n",
    "    \n",
    "    print(f'R² = {reg.rsquared} Adj. R² = {reg.rsquared_adj} Alpha = {i} ')\n",
    "\n",
    "\n"
   ]
  },
  {
   "cell_type": "markdown",
   "metadata": {},
   "source": [
    "### Exercicio 7"
   ]
  },
  {
   "cell_type": "code",
   "execution_count": 16,
   "metadata": {},
   "outputs": [],
   "source": [
    "# Vamos fazer exatamente o que fizemos com o X-step e y_step, porem com o df todo, depois vamos epara. \n",
    "\n",
    "X_tree = df.drop('renda', axis = 1)\n",
    "X_tree = pd.get_dummies(df, columns = ['sexo', 'posse_de_veiculo', 'posse_de_imovel', 'tipo_renda', 'educacao', 'estado_civil', 'tipo_residencia'], drop_first=True)\n",
    "\n",
    "y_tree = df.renda"
   ]
  },
  {
   "cell_type": "code",
   "execution_count": 17,
   "metadata": {},
   "outputs": [
    {
     "data": {
      "text/plain": [
       "<seaborn.matrix.ClusterGrid at 0x1d39ff2f370>"
      ]
     },
     "execution_count": 17,
     "metadata": {},
     "output_type": "execute_result"
    },
    {
     "data": {
      "image/png": "[encoded data removed]",
      "text/plain": [
       "<Figure size 500x500 with 4 Axes>"
      ]
     },
     "metadata": {},
     "output_type": "display_data"
    }
   ],
   "source": [
    "cmap = sns.diverging_palette(h_neg=125\n",
    "                             , h_pos=250\n",
    "                             , as_cmap=True\n",
    "                             , sep = 60\n",
    "                             , center = 'light')\n",
    "\n",
    "sns.clustermap(X_tree.corr(), figsize=(5, 5), center = 0, cmap=cmap)"
   ]
  },
  {
   "cell_type": "code",
   "execution_count": 18,
   "metadata": {},
   "outputs": [],
   "source": [
    "#pela matriz de correlação vamos filtrar mais os dados:\n",
    "X_tree = X_tree.drop(['tipo_renda_Pensionista',\n",
    "                      'tipo_residencia_Comunitário',\n",
    "                      'tipo_renda_Servidor público',\n",
    "                      'educacao_Pós graduação',\n",
    "                      'estado_civil_União'], axis = 1)\n"
   ]
  },
  {
   "cell_type": "code",
   "execution_count": 19,
   "metadata": {},
   "outputs": [],
   "source": [
    "# Como X e y ja estão separados entre a variavel Target e o resto, não precisamos aplicar o .drop( [])\n",
    "X_train, X_test, y_train, y_test = train_test_split(X_tree, y_tree, test_size=0.25, random_state=100)"
   ]
  },
  {
   "cell_type": "code",
   "execution_count": 20,
   "metadata": {},
   "outputs": [
    {
     "data": {
      "text/html": [
       "<div>\n",
       "<style scoped>\n",
       "    .dataframe tbody tr th:only-of-type {\n",
       "        vertical-align: middle;\n",
       "    }\n",
       "\n",
       "    .dataframe tbody tr th {\n",
       "        vertical-align: top;\n",
       "    }\n",
       "\n",
       "    .dataframe thead th {\n",
       "        text-align: right;\n",
       "    }\n",
       "</style>\n",
       "<table border=\"1\" class=\"dataframe\">\n",
       "  <thead>\n",
       "    <tr style=\"text-align: right;\">\n",
       "      <th>n_minimo</th>\n",
       "      <th>2</th>\n",
       "      <th>3</th>\n",
       "      <th>4</th>\n",
       "      <th>5</th>\n",
       "      <th>6</th>\n",
       "      <th>7</th>\n",
       "      <th>8</th>\n",
       "      <th>9</th>\n",
       "    </tr>\n",
       "    <tr>\n",
       "      <th>profundidade</th>\n",
       "      <th></th>\n",
       "      <th></th>\n",
       "      <th></th>\n",
       "      <th></th>\n",
       "      <th></th>\n",
       "      <th></th>\n",
       "      <th></th>\n",
       "      <th></th>\n",
       "    </tr>\n",
       "  </thead>\n",
       "  <tbody>\n",
       "    <tr>\n",
       "      <th>3</th>\n",
       "      <td>0.949013</td>\n",
       "      <td>0.949013</td>\n",
       "      <td>0.949013</td>\n",
       "      <td>0.949013</td>\n",
       "      <td>0.949013</td>\n",
       "      <td>0.948430</td>\n",
       "      <td>0.939038</td>\n",
       "      <td>0.941493</td>\n",
       "    </tr>\n",
       "    <tr>\n",
       "      <th>4</th>\n",
       "      <td>0.987939</td>\n",
       "      <td>0.987939</td>\n",
       "      <td>0.988090</td>\n",
       "      <td>0.988090</td>\n",
       "      <td>0.987991</td>\n",
       "      <td>0.986196</td>\n",
       "      <td>0.976804</td>\n",
       "      <td>0.979259</td>\n",
       "    </tr>\n",
       "    <tr>\n",
       "      <th>5</th>\n",
       "      <td>0.996837</td>\n",
       "      <td>0.996837</td>\n",
       "      <td>0.996988</td>\n",
       "      <td>0.996988</td>\n",
       "      <td>0.996713</td>\n",
       "      <td>0.994918</td>\n",
       "      <td>0.985527</td>\n",
       "      <td>0.987982</td>\n",
       "    </tr>\n",
       "    <tr>\n",
       "      <th>6</th>\n",
       "      <td>0.998988</td>\n",
       "      <td>0.998967</td>\n",
       "      <td>0.999082</td>\n",
       "      <td>0.999085</td>\n",
       "      <td>0.998778</td>\n",
       "      <td>0.996882</td>\n",
       "      <td>0.987511</td>\n",
       "      <td>0.989968</td>\n",
       "    </tr>\n",
       "    <tr>\n",
       "      <th>7</th>\n",
       "      <td>0.999582</td>\n",
       "      <td>0.999510</td>\n",
       "      <td>0.999594</td>\n",
       "      <td>0.999573</td>\n",
       "      <td>0.999262</td>\n",
       "      <td>0.997334</td>\n",
       "      <td>0.987961</td>\n",
       "      <td>0.990406</td>\n",
       "    </tr>\n",
       "    <tr>\n",
       "      <th>8</th>\n",
       "      <td>0.999733</td>\n",
       "      <td>0.999640</td>\n",
       "      <td>0.999720</td>\n",
       "      <td>0.999688</td>\n",
       "      <td>0.999376</td>\n",
       "      <td>0.997440</td>\n",
       "      <td>0.988064</td>\n",
       "      <td>0.990508</td>\n",
       "    </tr>\n",
       "  </tbody>\n",
       "</table>\n",
       "</div>"
      ],
      "text/plain": [
       "n_minimo             2         3         4         5         6         7  \\\n",
       "profundidade                                                               \n",
       "3             0.949013  0.949013  0.949013  0.949013  0.949013  0.948430   \n",
       "4             0.987939  0.987939  0.988090  0.988090  0.987991  0.986196   \n",
       "5             0.996837  0.996837  0.996988  0.996988  0.996713  0.994918   \n",
       "6             0.998988  0.998967  0.999082  0.999085  0.998778  0.996882   \n",
       "7             0.999582  0.999510  0.999594  0.999573  0.999262  0.997334   \n",
       "8             0.999733  0.999640  0.999720  0.999688  0.999376  0.997440   \n",
       "\n",
       "n_minimo             8         9  \n",
       "profundidade                      \n",
       "3             0.939038  0.941493  \n",
       "4             0.976804  0.979259  \n",
       "5             0.985527  0.987982  \n",
       "6             0.987511  0.989968  \n",
       "7             0.987961  0.990406  \n",
       "8             0.988064  0.990508  "
      ]
     },
     "execution_count": 20,
     "metadata": {},
     "output_type": "execute_result"
    },
    {
     "data": {
      "image/png": "[encoded data removed]",
      "text/plain": [
       "<Figure size 640x480 with 2 Axes>"
      ]
     },
     "metadata": {},
     "output_type": "display_data"
    }
   ],
   "source": [
    "mses = []\n",
    "ind_i = [] # Profundidade\n",
    "ind_j = [] # Folhas\n",
    "\n",
    "for i in range(3, 9):\n",
    "    for j in range(2, 10):\n",
    "        regr_1 = DecisionTreeRegressor(max_depth=i, min_samples_leaf=j)\n",
    "        regr_1.fit(X_train, y_train)\n",
    "        mse1 = regr_1.score(X_test, y_test)\n",
    "        mses.append(mse1)\n",
    "        ind_i.append(i)\n",
    "        ind_j.append(j)\n",
    "        \n",
    "df_mse = pd.DataFrame({'mses':mses, 'profundidade':ind_i, 'n_minimo':ind_j})\n",
    "sns.heatmap(df_mse.pivot(index='profundidade', columns='n_minimo', values='mses'))\n",
    "df_mse.pivot(index='profundidade', columns='n_minimo', values='mses')"
   ]
  },
  {
   "cell_type": "code",
   "execution_count": 31,
   "metadata": {},
   "outputs": [
    {
     "data": {
      "text/plain": [
       "0.9995730632991794"
      ]
     },
     "execution_count": 31,
     "metadata": {},
     "output_type": "execute_result"
    }
   ],
   "source": [
    "reg = DecisionTreeRegressor(max_depth=7, min_samples_leaf=5, ccp_alpha=0 )\n",
    "\n",
    "reg.fit(X_train, y_train)\n",
    "\n",
    "R_sqr1 = reg.score(X_test, y_test)\n",
    "R_sqr1"
   ]
  },
  {
   "cell_type": "code",
   "execution_count": 24,
   "metadata": {},
   "outputs": [
    {
     "data": {
      "text/plain": [
       "{'ccp_alphas': array([0.00000000e+00, 3.38933266e+02, 3.61511336e+02, 4.46733700e+02,\n",
       "        4.93673099e+02, 4.94386360e+02, 5.41122235e+02, 5.85563395e+02,\n",
       "        6.31163834e+02, 6.72391998e+02, 6.75589570e+02, 6.78222958e+02,\n",
       "        7.00044096e+02, 7.00474860e+02, 7.08246751e+02, 7.25846041e+02,\n",
       "        7.52245291e+02, 7.79439597e+02, 7.98648134e+02, 8.09718284e+02,\n",
       "        8.19514646e+02, 8.36884937e+02, 8.47057333e+02, 8.70781340e+02,\n",
       "        8.81364985e+02, 9.35732132e+02, 9.49455954e+02, 1.00697761e+03,\n",
       "        1.01722597e+03, 1.04462540e+03, 1.07049296e+03, 1.08182462e+03,\n",
       "        1.09834570e+03, 1.13540306e+03, 1.25327199e+03, 1.35485546e+03,\n",
       "        1.36318689e+03, 2.06882918e+03, 2.49066674e+03, 2.98833143e+03,\n",
       "        3.83652441e+03, 5.01084974e+03, 5.34878606e+03, 5.71842819e+03,\n",
       "        5.80891826e+03, 5.85314427e+03, 5.95946209e+03, 6.09012545e+03,\n",
       "        6.28128260e+03, 6.79741198e+03, 6.95678958e+03, 7.19783063e+03,\n",
       "        7.24404794e+03, 7.61478783e+03, 7.67872966e+03, 8.01032410e+03,\n",
       "        8.25897309e+03, 8.59897637e+03, 8.90059103e+03, 9.96762276e+03,\n",
       "        3.23362792e+04, 3.83512561e+04, 4.16390632e+04, 4.50878896e+04,\n",
       "        4.61565428e+04, 4.87349528e+04, 4.91126770e+04, 5.45585887e+04,\n",
       "        5.62873314e+04, 5.70774786e+04, 6.33010390e+04, 1.80262373e+05,\n",
       "        2.93549434e+05, 3.03344816e+05, 3.88210672e+05, 4.08842583e+05,\n",
       "        4.22384528e+05, 4.44302958e+05, 2.06504448e+06, 2.43934295e+06,\n",
       "        2.77968941e+06, 2.85312489e+06, 1.17298976e+07, 1.60593672e+07,\n",
       "        4.27774257e+07]),\n",
       " 'impurities': array([  678036.15960219,   678375.09286783,   678736.60420425,\n",
       "          679183.33790474,   679677.01100355,   680171.39736335,\n",
       "          680712.51959851,   681298.08299333,   681929.24682718,\n",
       "          682601.63882501,   683277.22839483,   683955.45135241,\n",
       "          684655.49544863,   685355.9703084 ,   686064.2170591 ,\n",
       "          686790.06309962,   687542.30839037,   688321.74798731,\n",
       "          689120.39612171,   689930.11440597,   690749.62905179,\n",
       "          691586.51398843,   692433.5713218 ,   693304.35266141,\n",
       "          694185.71764662,   695121.44977841,   696070.90573228,\n",
       "          697077.88334283,   698095.10931064,   699139.73471088,\n",
       "          700210.22766936,   701292.05229225,   702390.39799393,\n",
       "          703525.80105403,   704779.07304897,   706133.928508  ,\n",
       "          707497.11539796,   709565.94457703,   712056.61132144,\n",
       "          715044.94275373,   718881.46716765,   723892.31690676,\n",
       "          729241.10296323,   734959.53115048,   740768.44941487,\n",
       "          746621.59368758,   752581.05577439,   758671.18122254,\n",
       "          764952.46382647,   771749.87580273,   778706.66538383,\n",
       "          785904.49601718,   793148.5439559 ,   800763.33178641,\n",
       "          808442.06144825,   816452.38554455,   824711.35863198,\n",
       "          833310.33499762,   842210.92602954,   852178.54878773,\n",
       "          884514.82793788,   922866.08404318,   964505.1472089 ,\n",
       "         1009593.03679653,  1055749.5796205 ,  1104484.53244035,\n",
       "         1153597.20948611,  1208155.79815904,  1264443.12959055,\n",
       "         1321520.6082113 ,  1384821.64723039,  1565084.02065373,\n",
       "         1858633.45481944,  2161978.27093107,  2550188.94326916,\n",
       "         2959031.52591942,  3381416.05353677,  3825719.01124125,\n",
       "         5890763.49268592,  8330106.43807758, 11109795.84935449,\n",
       "        13962920.74345849, 25692818.35827278, 41752185.52410795,\n",
       "        84529611.19416837])}"
      ]
     },
     "execution_count": 24,
     "metadata": {},
     "output_type": "execute_result"
    }
   ],
   "source": [
    "path = reg.cost_complexity_pruning_path(X_train, y_train)\n",
    "path"
   ]
  },
  {
   "cell_type": "code",
   "execution_count": 25,
   "metadata": {},
   "outputs": [],
   "source": [
    "ccp_alphas, impurities = path.ccp_alphas, path.impurities\n",
    "\n",
    "clfs = []\n",
    "\n",
    "for ccp_alpha in ccp_alphas:\n",
    "    clf = DecisionTreeRegressor(random_state=0, ccp_alpha=ccp_alpha)\n",
    "    clf.fit(X_train, y_train)\n",
    "    clfs.append(clf)"
   ]
  },
  {
   "cell_type": "code",
   "execution_count": 26,
   "metadata": {},
   "outputs": [],
   "source": [
    "mse_values = []\n",
    "\n",
    "for clf in clfs:\n",
    "  mse = mean_squared_error(y_test, clf.predict(X_test))\n",
    "\n",
    "  # Armazenar o valor de MSE na lista\n",
    "  mse_values.append(mse)"
   ]
  },
  {
   "cell_type": "code",
   "execution_count": 27,
   "metadata": {},
   "outputs": [
    {
     "name": "stdout",
     "output_type": "stream",
     "text": [
      "[3829.7428226585066, 16449.603186650664, 15667.8228979899, 16356.83510045381, 19308.027950173513, 19308.027950173513, 21213.388395762686, 23520.70293637794, 25717.73712821543, 26862.191352268972, 26862.191352268972, 27622.638396041122, 29005.626012879187, 29534.318568321392, 30585.166182535933, 31278.248830753102, 32647.614804278837, 33981.75819583951, 35050.00111014779, 35050.00111014779, 35934.443344388645, 36396.689564407876, 38109.08701725098, 38916.50821466767, 38916.50821466767, 42612.604061400285, 42612.604061400285, 44742.67195396196, 44742.67195396196, 45768.83092019755, 46772.842475604986, 48808.04441793734, 49423.80886607679, 49423.80886607679, 50480.113552678406, 51795.06285077928, 52630.240632302965, 57440.452623822006, 60602.54995743354, 60602.54995743354, 66169.77712971948, 66169.77712971948, 84006.7736456824, 89518.64519430009, 89518.64519430009, 96539.68857300651, 100473.8557449316, 113420.92709898605, 119484.9762480928, 127601.00192373905, 127601.00192373905, 141144.48007438393, 144976.51315553463, 144976.51315553463, 149579.72172662645, 158636.51837105304, 166396.7352994181, 174877.99211909244, 187117.7661871943, 187117.7661871943, 208693.86274520837, 265168.91330930823, 316272.48858576204, 359899.1622866053, 420967.5389377384, 473452.47901877755, 525830.2871347129, 575042.8844532594, 631170.8222506021, 692278.5224728396, 692278.5224728396, 753971.8179300235, 1095891.7365574087, 1095891.7365574087, 1532434.9924712726, 1927424.1346699966, 2723189.285627582, 3187328.391274029, 3187328.391274029, 5630027.954075163, 5572985.727883342, 8352585.745410672, 14401348.103309294, 30540536.20191377, 62522780.84554605]\n"
     ]
    }
   ],
   "source": [
    "print(mse_values)"
   ]
  },
  {
   "cell_type": "code",
   "execution_count": 28,
   "metadata": {},
   "outputs": [
    {
     "data": {
      "image/png": "[encoded data removed]",
      "text/plain": [
       "<Figure size 640x480 with 1 Axes>"
      ]
     },
     "metadata": {},
     "output_type": "display_data"
    }
   ],
   "source": [
    "train_scores = [mean_squared_error(y_train , clf.predict(X_train)) for clf in clfs]\n",
    "test_scores  = [mean_squared_error(y_test  , clf.predict(X_test )) for clf in clfs]\n",
    "\n",
    "fig, ax = plt.subplots()\n",
    "ax.set_xlabel(\"alpha\")\n",
    "ax.set_ylabel(\"MSE\")\n",
    "ax.set_title(\"MSE x alpha do conjunto de dados de treino e teste\")\n",
    "ax.plot(ccp_alphas[:-1], train_scores[:-1], marker='o', label=\"treino\",\n",
    "        drawstyle=\"steps-post\")\n",
    "ax.plot(ccp_alphas[:-1], test_scores[:-1], marker='o', label=\"teste\",\n",
    "        drawstyle=\"steps-post\")\n",
    "ax.legend()\n",
    "plt.show()"
   ]
  },
  {
   "cell_type": "code",
   "execution_count": 29,
   "metadata": {},
   "outputs": [],
   "source": [
    "# achar o melhor MSE e Alpha fazendo um df\n",
    "alpha_mse = pd.DataFrame ({'alpha': ccp_alphas.tolist(), 'MSE': test_scores})"
   ]
  },
  {
   "cell_type": "code",
   "execution_count": 30,
   "metadata": {},
   "outputs": [
    {
     "name": "stdout",
     "output_type": "stream",
     "text": [
      "O CCP_ALPHA para o menor MSE é 0.0 e o MSE é 3829.7428226585066.\n"
     ]
    }
   ],
   "source": [
    "menor_mse = np.inf\n",
    "melhor_ccp = 0\n",
    "\n",
    "for i, mse in enumerate(alpha_mse['MSE']):\n",
    "  if mse <= menor_mse:  \n",
    "    menor_mse = mse\n",
    "    melhor_ccp = alpha_mse['alpha'][i]\n",
    "\n",
    "print(f'O CCP_ALPHA para o menor MSE é {melhor_ccp} e o MSE é {menor_mse}.')\n"
   ]
  },
  {
   "cell_type": "code",
   "execution_count": 32,
   "metadata": {},
   "outputs": [
    {
     "name": "stdout",
     "output_type": "stream",
     "text": [
      "MSE: 26688.998295295016\n"
     ]
    }
   ],
   "source": [
    "# aqui foi usando uma função do pacote \"from sklearn.metrics import mean_squared_error\"\n",
    "mse_1 = mean_squared_error(y_test, reg.predict(X_test))\n",
    "print(\"MSE:\", mse_1)"
   ]
  },
  {
   "cell_type": "code",
   "execution_count": 33,
   "metadata": {},
   "outputs": [
    {
     "data": {
      "image/png": "[encoded data removed]",
      "text/plain": [
       "<Figure size 1000x1000 with 1 Axes>"
      ]
     },
     "metadata": {},
     "output_type": "display_data"
    }
   ],
   "source": [
    "plt.rc('figure', figsize=(10, 10))\n",
    "tp = tree.plot_tree(reg, \n",
    "                    feature_names=X_tree.columns,  \n",
    "                    filled=True) "
   ]
  },
  {
   "cell_type": "code",
   "execution_count": null,
   "metadata": {},
   "outputs": [],
   "source": []
  }
 ],
 "metadata": {
  "kernelspec": {
   "display_name": "Python 3 (ipykernel)",
   "language": "python",
   "name": "python3"
  },
  "language_info": {
   "codemirror_mode": {
    "name": "ipython",
    "version": 3
   },
   "file_extension": ".py",
   "mimetype": "text/x-python",
   "name": "python",
   "nbconvert_exporter": "python",
   "pygments_lexer": "ipython3",
   "version": "3.9.13"
  }
 },
 "nbformat": 4,
 "nbformat_minor": 4
}
